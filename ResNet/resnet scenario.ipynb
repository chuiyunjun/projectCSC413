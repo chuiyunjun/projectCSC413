{
  "nbformat": 4,
  "nbformat_minor": 0,
  "metadata": {
    "kernelspec": {
      "language": "python",
      "display_name": "Python 3",
      "name": "python3"
    },
    "language_info": {
      "name": "python",
      "version": "3.7.6",
      "mimetype": "text/x-python",
      "codemirror_mode": {
        "name": "ipython",
        "version": 3
      },
      "pygments_lexer": "ipython3",
      "nbconvert_exporter": "python",
      "file_extension": ".py"
    },
    "colab": {
      "name": "resnet.ipynb",
      "provenance": [],
      "collapsed_sections": [],
      "toc_visible": true
    },
    "accelerator": "GPU",
    "widgets": {
      "application/vnd.jupyter.widget-state+json": {
        "e3a908713dfc4aa78b2f2c5406d4367a": {
          "model_module": "@jupyter-widgets/controls",
          "model_name": "HBoxModel",
          "state": {
            "_view_name": "HBoxView",
            "_dom_classes": [],
            "_model_name": "HBoxModel",
            "_view_module": "@jupyter-widgets/controls",
            "_model_module_version": "1.5.0",
            "_view_count": null,
            "_view_module_version": "1.5.0",
            "box_style": "",
            "layout": "IPY_MODEL_225f18f2be8f426ca910034fe5e9f16f",
            "_model_module": "@jupyter-widgets/controls",
            "children": [
              "IPY_MODEL_ab996ecd6531488a84629eb1cbe46fc5",
              "IPY_MODEL_7b01092afe364ae0ba9ce3f662363c27"
            ]
          }
        },
        "225f18f2be8f426ca910034fe5e9f16f": {
          "model_module": "@jupyter-widgets/base",
          "model_name": "LayoutModel",
          "state": {
            "_view_name": "LayoutView",
            "grid_template_rows": null,
            "right": null,
            "justify_content": null,
            "_view_module": "@jupyter-widgets/base",
            "overflow": null,
            "_model_module_version": "1.2.0",
            "_view_count": null,
            "flex_flow": null,
            "width": null,
            "min_width": null,
            "border": null,
            "align_items": null,
            "bottom": null,
            "_model_module": "@jupyter-widgets/base",
            "top": null,
            "grid_column": null,
            "overflow_y": null,
            "overflow_x": null,
            "grid_auto_flow": null,
            "grid_area": null,
            "grid_template_columns": null,
            "flex": null,
            "_model_name": "LayoutModel",
            "justify_items": null,
            "grid_row": null,
            "max_height": null,
            "align_content": null,
            "visibility": null,
            "align_self": null,
            "height": null,
            "min_height": null,
            "padding": null,
            "grid_auto_rows": null,
            "grid_gap": null,
            "max_width": null,
            "order": null,
            "_view_module_version": "1.2.0",
            "grid_template_areas": null,
            "object_position": null,
            "object_fit": null,
            "grid_auto_columns": null,
            "margin": null,
            "display": null,
            "left": null
          }
        },
        "ab996ecd6531488a84629eb1cbe46fc5": {
          "model_module": "@jupyter-widgets/controls",
          "model_name": "FloatProgressModel",
          "state": {
            "_view_name": "ProgressView",
            "style": "IPY_MODEL_44750a6b085c46a5bdfbdea0649cafc7",
            "_dom_classes": [],
            "description": "",
            "_model_name": "FloatProgressModel",
            "bar_style": "success",
            "max": 561753746,
            "_view_module": "@jupyter-widgets/controls",
            "_model_module_version": "1.5.0",
            "value": 561753746,
            "_view_count": null,
            "_view_module_version": "1.5.0",
            "orientation": "horizontal",
            "min": 0,
            "description_tooltip": null,
            "_model_module": "@jupyter-widgets/controls",
            "layout": "IPY_MODEL_b18cf52cbefd42cfbb329f5019a65455"
          }
        },
        "7b01092afe364ae0ba9ce3f662363c27": {
          "model_module": "@jupyter-widgets/controls",
          "model_name": "HTMLModel",
          "state": {
            "_view_name": "HTMLView",
            "style": "IPY_MODEL_ffff949f599845e3bec8767a610d558e",
            "_dom_classes": [],
            "description": "",
            "_model_name": "HTMLModel",
            "placeholder": "​",
            "_view_module": "@jupyter-widgets/controls",
            "_model_module_version": "1.5.0",
            "value": " 561754112/? [00:34&lt;00:00, 16163774.64it/s]",
            "_view_count": null,
            "_view_module_version": "1.5.0",
            "description_tooltip": null,
            "_model_module": "@jupyter-widgets/controls",
            "layout": "IPY_MODEL_ade63e3109724429836894e9e501b998"
          }
        },
        "44750a6b085c46a5bdfbdea0649cafc7": {
          "model_module": "@jupyter-widgets/controls",
          "model_name": "ProgressStyleModel",
          "state": {
            "_view_name": "StyleView",
            "_model_name": "ProgressStyleModel",
            "description_width": "initial",
            "_view_module": "@jupyter-widgets/base",
            "_model_module_version": "1.5.0",
            "_view_count": null,
            "_view_module_version": "1.2.0",
            "bar_color": null,
            "_model_module": "@jupyter-widgets/controls"
          }
        },
        "b18cf52cbefd42cfbb329f5019a65455": {
          "model_module": "@jupyter-widgets/base",
          "model_name": "LayoutModel",
          "state": {
            "_view_name": "LayoutView",
            "grid_template_rows": null,
            "right": null,
            "justify_content": null,
            "_view_module": "@jupyter-widgets/base",
            "overflow": null,
            "_model_module_version": "1.2.0",
            "_view_count": null,
            "flex_flow": null,
            "width": null,
            "min_width": null,
            "border": null,
            "align_items": null,
            "bottom": null,
            "_model_module": "@jupyter-widgets/base",
            "top": null,
            "grid_column": null,
            "overflow_y": null,
            "overflow_x": null,
            "grid_auto_flow": null,
            "grid_area": null,
            "grid_template_columns": null,
            "flex": null,
            "_model_name": "LayoutModel",
            "justify_items": null,
            "grid_row": null,
            "max_height": null,
            "align_content": null,
            "visibility": null,
            "align_self": null,
            "height": null,
            "min_height": null,
            "padding": null,
            "grid_auto_rows": null,
            "grid_gap": null,
            "max_width": null,
            "order": null,
            "_view_module_version": "1.2.0",
            "grid_template_areas": null,
            "object_position": null,
            "object_fit": null,
            "grid_auto_columns": null,
            "margin": null,
            "display": null,
            "left": null
          }
        },
        "ffff949f599845e3bec8767a610d558e": {
          "model_module": "@jupyter-widgets/controls",
          "model_name": "DescriptionStyleModel",
          "state": {
            "_view_name": "StyleView",
            "_model_name": "DescriptionStyleModel",
            "description_width": "",
            "_view_module": "@jupyter-widgets/base",
            "_model_module_version": "1.5.0",
            "_view_count": null,
            "_view_module_version": "1.2.0",
            "_model_module": "@jupyter-widgets/controls"
          }
        },
        "ade63e3109724429836894e9e501b998": {
          "model_module": "@jupyter-widgets/base",
          "model_name": "LayoutModel",
          "state": {
            "_view_name": "LayoutView",
            "grid_template_rows": null,
            "right": null,
            "justify_content": null,
            "_view_module": "@jupyter-widgets/base",
            "overflow": null,
            "_model_module_version": "1.2.0",
            "_view_count": null,
            "flex_flow": null,
            "width": null,
            "min_width": null,
            "border": null,
            "align_items": null,
            "bottom": null,
            "_model_module": "@jupyter-widgets/base",
            "top": null,
            "grid_column": null,
            "overflow_y": null,
            "overflow_x": null,
            "grid_auto_flow": null,
            "grid_area": null,
            "grid_template_columns": null,
            "flex": null,
            "_model_name": "LayoutModel",
            "justify_items": null,
            "grid_row": null,
            "max_height": null,
            "align_content": null,
            "visibility": null,
            "align_self": null,
            "height": null,
            "min_height": null,
            "padding": null,
            "grid_auto_rows": null,
            "grid_gap": null,
            "max_width": null,
            "order": null,
            "_view_module_version": "1.2.0",
            "grid_template_areas": null,
            "object_position": null,
            "object_fit": null,
            "grid_auto_columns": null,
            "margin": null,
            "display": null,
            "left": null
          }
        }
      }
    }
  },
  "cells": [
    {
      "cell_type": "code",
      "metadata": {
        "trusted": true,
        "colab": {
          "base_uri": "https://localhost:8080/"
        },
        "id": "s53MMJmPM0YN",
        "outputId": "8a5e5f36-4b41-4c10-9dc8-d50a313fb2a2"
      },
      "source": [
        "import torch\n",
        "import torch.nn as nn\n",
        "import torch.nn.functional as F\n",
        "import torchvision\n",
        "import torchvision.transforms as transforms\n",
        "from torchvision import models\n",
        "import string\n",
        "import matplotlib.pyplot as plt\n",
        "import numpy as np\n",
        "from pathlib import Path\n",
        "from torch.utils.data import DataLoader\n",
        "from tqdm import tqdm\n",
        "!pip install adabelief-pytorch==0.2.0\n",
        "from adabelief_pytorch import AdaBelief\n",
        "from torch.optim import *\n",
        "import math\n",
        "from sklearn.metrics import f1_score\n",
        "!pip install pyarrow\n",
        "import pandas as pd\n",
        "!pip install torchviz\n",
        "from torchviz import make_dot"
      ],
      "execution_count": 1,
      "outputs": [
        {
          "output_type": "stream",
          "text": [
            "Collecting adabelief-pytorch==0.2.0\n",
            "  Downloading https://files.pythonhosted.org/packages/7d/03/77f28f0f9641be90061596af692b6dd026f5aed3ba24dbca872e0a6ee75e/adabelief_pytorch-0.2.0-py3-none-any.whl\n",
            "Requirement already satisfied: torch>=0.4.0 in /usr/local/lib/python3.7/dist-packages (from adabelief-pytorch==0.2.0) (1.8.1+cu101)\n",
            "Requirement already satisfied: tabulate>=0.7 in /usr/local/lib/python3.7/dist-packages (from adabelief-pytorch==0.2.0) (0.8.9)\n",
            "Collecting colorama>=0.4.0\n",
            "  Downloading https://files.pythonhosted.org/packages/44/98/5b86278fbbf250d239ae0ecb724f8572af1c91f4a11edf4d36a206189440/colorama-0.4.4-py2.py3-none-any.whl\n",
            "Requirement already satisfied: typing-extensions in /usr/local/lib/python3.7/dist-packages (from torch>=0.4.0->adabelief-pytorch==0.2.0) (3.7.4.3)\n",
            "Requirement already satisfied: numpy in /usr/local/lib/python3.7/dist-packages (from torch>=0.4.0->adabelief-pytorch==0.2.0) (1.19.5)\n",
            "Installing collected packages: colorama, adabelief-pytorch\n",
            "Successfully installed adabelief-pytorch-0.2.0 colorama-0.4.4\n",
            "Requirement already satisfied: pyarrow in /usr/local/lib/python3.7/dist-packages (3.0.0)\n",
            "Requirement already satisfied: numpy>=1.16.6 in /usr/local/lib/python3.7/dist-packages (from pyarrow) (1.19.5)\n",
            "Collecting torchviz\n",
            "  Downloading https://files.pythonhosted.org/packages/79/e7/643808913211d6c1fc96a3a4333bf4c9276858fab00bcafaf98ea58a97be/torchviz-0.0.2.tar.gz\n",
            "Requirement already satisfied: torch in /usr/local/lib/python3.7/dist-packages (from torchviz) (1.8.1+cu101)\n",
            "Requirement already satisfied: graphviz in /usr/local/lib/python3.7/dist-packages (from torchviz) (0.10.1)\n",
            "Requirement already satisfied: numpy in /usr/local/lib/python3.7/dist-packages (from torch->torchviz) (1.19.5)\n",
            "Requirement already satisfied: typing-extensions in /usr/local/lib/python3.7/dist-packages (from torch->torchviz) (3.7.4.3)\n",
            "Building wheels for collected packages: torchviz\n",
            "  Building wheel for torchviz (setup.py) ... \u001b[?25l\u001b[?25hdone\n",
            "  Created wheel for torchviz: filename=torchviz-0.0.2-cp37-none-any.whl size=4152 sha256=cc123956d14bdbcd554e3548e6a231162345d9638c254261ce4663e1d54c2541\n",
            "  Stored in directory: /root/.cache/pip/wheels/01/26/58/026ffd533dbe8b3972eb423da9c7949beca68d1c98ed9e8624\n",
            "Successfully built torchviz\n",
            "Installing collected packages: torchviz\n",
            "Successfully installed torchviz-0.0.2\n"
          ],
          "name": "stdout"
        }
      ]
    },
    {
      "cell_type": "code",
      "metadata": {
        "trusted": true,
        "colab": {
          "base_uri": "https://localhost:8080/",
          "height": 307,
          "referenced_widgets": [
            "e3a908713dfc4aa78b2f2c5406d4367a",
            "225f18f2be8f426ca910034fe5e9f16f",
            "ab996ecd6531488a84629eb1cbe46fc5",
            "7b01092afe364ae0ba9ce3f662363c27",
            "44750a6b085c46a5bdfbdea0649cafc7",
            "b18cf52cbefd42cfbb329f5019a65455",
            "ffff949f599845e3bec8767a610d558e",
            "ade63e3109724429836894e9e501b998"
          ]
        },
        "id": "MyfQNM4DM0YZ",
        "outputId": "fb2582fc-7531-47bd-a71f-aa4c0c5882d4"
      },
      "source": [
        "device = torch.device(\"cuda:0\" if torch.cuda.is_available() else \"cpu\")\n",
        "print(device)\n",
        "\n",
        "transform = transforms.Compose(\n",
        "    [transforms.ToTensor(),\n",
        "     transforms.Normalize((0.5), (0.5))])\n",
        "\n",
        "train_set = torchvision.datasets.EMNIST(root='./data', train=True, download=True, transform=transform, split='bymerge')\n",
        "test_set = torchvision.datasets.EMNIST(root='./data', train=False, download=False, transform=transform, split='bymerge')"
      ],
      "execution_count": 2,
      "outputs": [
        {
          "output_type": "stream",
          "text": [
            "cuda:0\n",
            "Downloading and extracting zip archive\n",
            "Downloading https://www.itl.nist.gov/iaui/vip/cs_links/EMNIST/gzip.zip to ./data/EMNIST/raw/emnist.zip\n"
          ],
          "name": "stdout"
        },
        {
          "output_type": "display_data",
          "data": {
            "application/vnd.jupyter.widget-view+json": {
              "model_id": "e3a908713dfc4aa78b2f2c5406d4367a",
              "version_minor": 0,
              "version_major": 2
            },
            "text/plain": [
              "HBox(children=(FloatProgress(value=0.0, max=561753746.0), HTML(value='')))"
            ]
          },
          "metadata": {
            "tags": []
          }
        },
        {
          "output_type": "stream",
          "text": [
            "\n",
            "Extracting ./data/EMNIST/raw/emnist.zip to ./data/EMNIST/raw\n",
            "Processing byclass\n"
          ],
          "name": "stdout"
        },
        {
          "output_type": "stream",
          "text": [
            "/usr/local/lib/python3.7/dist-packages/torchvision/datasets/mnist.py:502: UserWarning: The given NumPy array is not writeable, and PyTorch does not support non-writeable tensors. This means you can write to the underlying (supposedly non-writeable) NumPy array using the tensor. You may want to copy the array to protect its data or make it writeable before converting it to a tensor. This type of warning will be suppressed for the rest of this program. (Triggered internally at  /pytorch/torch/csrc/utils/tensor_numpy.cpp:143.)\n",
            "  return torch.from_numpy(parsed.astype(m[2], copy=False)).view(*s)\n"
          ],
          "name": "stderr"
        },
        {
          "output_type": "stream",
          "text": [
            "Processing bymerge\n",
            "Processing balanced\n",
            "Processing letters\n",
            "Processing digits\n",
            "Processing mnist\n",
            "Done!\n"
          ],
          "name": "stdout"
        }
      ]
    },
    {
      "cell_type": "markdown",
      "metadata": {
        "id": "gSZnb8L9f3RI"
      },
      "source": [
        "# ResNet Model\n",
        "Only use the first layer of ResNet."
      ]
    },
    {
      "cell_type": "code",
      "metadata": {
        "trusted": true,
        "id": "jdtGfa5YM0Ya"
      },
      "source": [
        "class ResNet(nn.Module):\n",
        "    \n",
        "    def __init__(self, res, linear_dim=128, output_dim=47):\n",
        "        \n",
        "        super().__init__()\n",
        "        self.resnet = res\n",
        "        self.linear = nn.Linear(linear_dim, output_dim)\n",
        "    \n",
        "    def forward(self, x):\n",
        "        \n",
        "        x = self.resnet(x)\n",
        "        x = self.linear(x.squeeze())\n",
        "        \n",
        "        return x.squeeze(1)\n",
        "\n",
        "def get_resnet(state_dict=None):\n",
        "\n",
        "  resnet18 = models.resnet18()\n",
        "  emnist_cov2d = nn.Conv2d(1, 64, kernel_size=(7, 7), stride=(2, 2), padding=(3, 3), bias=False)\n",
        "  new_resnet18 = nn.Sequential(*[emnist_cov2d, resnet18.bn1, resnet18.relu, resnet18.maxpool] + list(resnet18.layer1) + [resnet18.avgpool])\n",
        "  out_resnet = ResNet(new_resnet18, 64)\n",
        "\n",
        "  if state_dict is not None:\n",
        "    out_resnet.load_state_dict(state_dict)\n",
        "  \n",
        "  return out_resnet"
      ],
      "execution_count": 3,
      "outputs": []
    },
    {
      "cell_type": "markdown",
      "metadata": {
        "id": "UI477bLBg2Lu"
      },
      "source": [
        "# Train and Evaluate Algorithm\n",
        "** Train model with different optimizers and evaluate it "
      ]
    },
    {
      "cell_type": "code",
      "metadata": {
        "trusted": true,
        "id": "3z4f0yRCM0Yb"
      },
      "source": [
        "def evaluate(model, valid_dl):\n",
        "\n",
        "  # we don't want to add evaluation related computation to computation graph\n",
        "  with torch.no_grad():\n",
        "    criterion = nn.CrossEntropyLoss()\n",
        "    valid_loss_lst = torch.tensor([]).to('cuda')\n",
        "    y_true_lst = torch.tensor([]).to('cuda')\n",
        "    y_pred_lst = torch.tensor([]).to('cuda')\n",
        "    \n",
        "    for X_valid, y_valid in valid_dl:\n",
        "      X_valid = X_valid.to('cuda')\n",
        "      y_valid = y_valid.to('cuda')\n",
        "      pred = model(X_valid)\n",
        "      valid_loss_lst = torch.cat((valid_loss_lst, criterion(pred, y_valid).view(-1)))\n",
        "      predicted = pred.argmax(1).squeeze()\n",
        "      y_pred_lst = torch.cat((y_pred_lst, predicted))\n",
        "      y_true_lst = torch.cat((y_true_lst, y_valid))\n",
        "\n",
        "  return valid_loss_lst.mean().item(), f1_score(y_pred=y_pred_lst.to('cpu'), y_true=y_true_lst.to('cpu'), average='micro')\n",
        "\n",
        "\n",
        "def train_res(**params):\n",
        "\n",
        "  # define model and move it to gpu\n",
        "  model = params['model']\n",
        "  model.to('cuda')\n",
        "\n",
        "  # define optimizer\n",
        "  opt = params['optimizer'][0](model.parameters(), **params['optimizer'][1])\n",
        "\n",
        "  # define data loader\n",
        "  \n",
        "  train_dl = DataLoader(params['train_data'], batch_size=params['batch_size'])\n",
        "  valid_dl = DataLoader(params['test_data'], batch_size=params['batch_size'])\n",
        "\n",
        "  # define loss\n",
        "  criterion = torch.nn.CrossEntropyLoss()\n",
        "\n",
        "  # start training\n",
        "  valid_loss_lst = []\n",
        "  train_loss_lst = []\n",
        "  train_f1_lst = []\n",
        "  valid_f1_lst = []\n",
        "\n",
        "  for e in tqdm(range(params['epochs'] + 1)):\n",
        "    train_losses = torch.tensor([]).to('cuda')\n",
        "    correct = 0\n",
        "    y_true_lst = torch.tensor([]).to('cuda')\n",
        "    y_pred_lst = torch.tensor([]).to('cuda')\n",
        "    \n",
        "    for X_train, y_train in train_dl:\n",
        "\n",
        "      X_train = X_train.to('cuda')\n",
        "      y_train = y_train.to('cuda')\n",
        "        \n",
        "      pred = model(X_train)\n",
        "      loss = criterion(pred, y_train)\n",
        "\n",
        "      # perform backward propagation\n",
        "      loss.backward()\n",
        "\n",
        "      # update model parameters and clear up gradient after update\n",
        "      opt.step()\n",
        "      opt.zero_grad()\n",
        "      train_losses = torch.cat((train_losses, loss.view(-1)))\n",
        "\n",
        "      with torch.no_grad():\n",
        "        predicted = pred.argmax(1).squeeze()\n",
        "        y_pred_lst = torch.cat((y_pred_lst, predicted))\n",
        "        y_true_lst = torch.cat((y_true_lst, y_train))\n",
        "      \n",
        "        \n",
        "    valid_loss, valid_f1 = evaluate(model, valid_dl)\n",
        "    train_loss = train_losses.mean().item()\n",
        "    train_f1 = f1_score(y_pred=y_pred_lst.to('cpu'), y_true=y_true_lst.to('cpu'), average='micro')\n",
        "    train_loss_lst.append(train_loss)\n",
        "    valid_loss_lst.append(valid_loss)\n",
        "    train_f1_lst.append(train_f1)\n",
        "    valid_f1_lst.append(valid_f1)\n",
        "    \n",
        "\n",
        "    print(f'epoch: {e}, training loss: {train_loss}, training f1: {train_f1}, validation loss: {valid_loss}, validation f1: {valid_f1}')\n",
        "\n",
        "  return model, train_loss_lst, valid_loss_lst, train_f1_lst, valid_f1_lst\n",
        "\n"
      ],
      "execution_count": 4,
      "outputs": []
    },
    {
      "cell_type": "code",
      "metadata": {
        "trusted": true,
        "id": "SnCRtx0aM0Yj"
      },
      "source": [
        "my_resnet_adam = get_resnet()\n",
        "default_params = my_resnet_adam.state_dict()\n",
        "my_resnet_adam_belief = get_resnet(default_params)\n",
        "my_resnet_padam = get_resnet(default_params)\n",
        "my_resnet_SGD = get_resnet(default_params)"
      ],
      "execution_count": 5,
      "outputs": []
    },
    {
      "cell_type": "markdown",
      "metadata": {
        "id": "nb6UQgUJ3UCu"
      },
      "source": [
        "#Train ResNet with different optimizers and evaluate\n",
        "** As mentioned, only use the first layer of ResNet"
      ]
    },
    {
      "cell_type": "markdown",
      "metadata": {
        "id": "U8n2FFKpg60_"
      },
      "source": [
        "# Optimizer 1: SGD + Momentum\n",
        "** Training usually takes over 10 hours. Results are saved in the .parquet file "
      ]
    },
    {
      "cell_type": "code",
      "metadata": {
        "trusted": true,
        "id": "esNgXljjM0Yl",
        "outputId": "6a9e162b-9f8f-4331-b368-251da8e3cf64"
      },
      "source": [
        "params = {\n",
        "    'optimizer': (torch.optim.SGD, {'lr': 0.0005, 'momentum': 0.9}),\n",
        "    'model': my_resnet_SGD,\n",
        "    'epochs': 30,\n",
        "    'batch_size': 64,\n",
        "    'train_data': train_set,\n",
        "    'test_data': test_set\n",
        "    \n",
        "}\n",
        "model_SGD, train_loss_lst_SGD, valid_loss_lst_SGD, train_f1_lst_SGD, valid_f1_lst_SGD = train_res(**params)"
      ],
      "execution_count": null,
      "outputs": [
        {
          "output_type": "stream",
          "text": [
            "  3%|▎         | 1/31 [02:50<1:25:11, 170.39s/it]"
          ],
          "name": "stderr"
        },
        {
          "output_type": "stream",
          "text": [
            "epoch: 0, training loss: 1.2380510568618774, training f1: 0.6810018741080793, validation loss: 0.6047092080116272, validation f1: 0.8188492387575974\n"
          ],
          "name": "stdout"
        },
        {
          "output_type": "stream",
          "text": [
            "  6%|▋         | 2/31 [05:38<1:22:04, 169.81s/it]"
          ],
          "name": "stderr"
        },
        {
          "output_type": "stream",
          "text": [
            "epoch: 1, training loss: 0.49346446990966797, training f1: 0.8460838591725268, validation loss: 0.43002229928970337, validation f1: 0.8608873567566173\n"
          ],
          "name": "stdout"
        },
        {
          "output_type": "stream",
          "text": [
            " 10%|▉         | 3/31 [08:26<1:19:00, 169.29s/it]"
          ],
          "name": "stderr"
        },
        {
          "output_type": "stream",
          "text": [
            "epoch: 2, training loss: 0.39502349495887756, training f1: 0.8694371371423004, validation loss: 0.3743441104888916, validation f1: 0.8742810966017038\n"
          ],
          "name": "stdout"
        },
        {
          "output_type": "stream",
          "text": [
            " 13%|█▎        | 4/31 [11:15<1:16:07, 169.16s/it]"
          ],
          "name": "stderr"
        },
        {
          "output_type": "stream",
          "text": [
            "epoch: 3, training loss: 0.3558635711669922, training f1: 0.8789466595599571, validation loss: 0.347007691860199, validation f1: 0.8810467405414234\n"
          ],
          "name": "stdout"
        },
        {
          "output_type": "stream",
          "text": [
            " 16%|█▌        | 5/31 [14:04<1:13:12, 168.93s/it]"
          ],
          "name": "stderr"
        },
        {
          "output_type": "stream",
          "text": [
            "epoch: 4, training loss: 0.33417364954948425, training f1: 0.8842695276903767, validation loss: 0.3309228718280792, validation f1: 0.8848465049904146\n"
          ],
          "name": "stdout"
        },
        {
          "output_type": "stream",
          "text": [
            " 19%|█▉        | 6/31 [16:51<1:10:13, 168.55s/it]"
          ],
          "name": "stderr"
        },
        {
          "output_type": "stream",
          "text": [
            "epoch: 5, training loss: 0.31997472047805786, training f1: 0.8880292062837067, validation loss: 0.31979015469551086, validation f1: 0.887812384481143\n"
          ],
          "name": "stdout"
        },
        {
          "output_type": "stream",
          "text": [
            " 23%|██▎       | 7/31 [19:41<1:07:35, 168.98s/it]"
          ],
          "name": "stderr"
        },
        {
          "output_type": "stream",
          "text": [
            "epoch: 6, training loss: 0.3096529543399811, training f1: 0.8908231747505487, validation loss: 0.3116424083709717, validation f1: 0.8900475400393731\n"
          ],
          "name": "stdout"
        },
        {
          "output_type": "stream",
          "text": [
            " 26%|██▌       | 8/31 [22:30<1:04:46, 168.96s/it]"
          ],
          "name": "stderr"
        },
        {
          "output_type": "stream",
          "text": [
            "epoch: 7, training loss: 0.3016294836997986, training f1: 0.8930612151327063, validation loss: 0.3052513301372528, validation f1: 0.8917582937166338\n"
          ],
          "name": "stdout"
        },
        {
          "output_type": "stream",
          "text": [
            " 29%|██▉       | 9/31 [25:21<1:02:06, 169.40s/it]"
          ],
          "name": "stderr"
        },
        {
          "output_type": "stream",
          "text": [
            "epoch: 8, training loss: 0.2950819730758667, training f1: 0.89471467134334, validation loss: 0.30022376775741577, validation f1: 0.8928156942307196\n"
          ],
          "name": "stdout"
        },
        {
          "output_type": "stream",
          "text": [
            " 32%|███▏      | 10/31 [28:09<59:10, 169.09s/it] "
          ],
          "name": "stderr"
        },
        {
          "output_type": "stream",
          "text": [
            "epoch: 9, training loss: 0.28958839178085327, training f1: 0.8962578016196421, validation loss: 0.29597944021224976, validation f1: 0.8937011597018646\n"
          ],
          "name": "stdout"
        },
        {
          "output_type": "stream",
          "text": [
            " 35%|███▌      | 11/31 [30:57<56:13, 168.68s/it]"
          ],
          "name": "stderr"
        },
        {
          "output_type": "stream",
          "text": [
            "epoch: 10, training loss: 0.28486010432243347, training f1: 0.8975301318753116, validation loss: 0.29220524430274963, validation f1: 0.8946811894466271\n"
          ],
          "name": "stdout"
        },
        {
          "output_type": "stream",
          "text": [
            " 39%|███▊      | 12/31 [33:44<53:18, 168.35s/it]"
          ],
          "name": "stderr"
        },
        {
          "output_type": "stream",
          "text": [
            "epoch: 11, training loss: 0.28071898221969604, training f1: 0.8986348240229707, validation loss: 0.2891400158405304, validation f1: 0.8958159607300362\n"
          ],
          "name": "stdout"
        },
        {
          "output_type": "stream",
          "text": [
            " 42%|████▏     | 13/31 [36:32<50:26, 168.14s/it]"
          ],
          "name": "stderr"
        },
        {
          "output_type": "stream",
          "text": [
            "epoch: 12, training loss: 0.27704551815986633, training f1: 0.8994701489543394, validation loss: 0.28633949160575867, validation f1: 0.8964865073975052\n"
          ],
          "name": "stdout"
        },
        {
          "output_type": "stream",
          "text": [
            " 45%|████▌     | 14/31 [39:23<47:50, 168.86s/it]"
          ],
          "name": "stderr"
        },
        {
          "output_type": "stream",
          "text": [
            "epoch: 13, training loss: 0.27376800775527954, training f1: 0.9003298315595215, validation loss: 0.28388190269470215, validation f1: 0.8970281027827687\n"
          ],
          "name": "stdout"
        },
        {
          "output_type": "stream",
          "text": [
            " 48%|████▊     | 15/31 [42:10<44:56, 168.54s/it]"
          ],
          "name": "stderr"
        },
        {
          "output_type": "stream",
          "text": [
            "epoch: 14, training loss: 0.27079927921295166, training f1: 0.9012095734254914, validation loss: 0.28170815110206604, validation f1: 0.8976986494502377\n"
          ],
          "name": "stdout"
        },
        {
          "output_type": "stream",
          "text": [
            " 52%|█████▏    | 16/31 [44:58<42:06, 168.41s/it]"
          ],
          "name": "stderr"
        },
        {
          "output_type": "stream",
          "text": [
            "epoch: 15, training loss: 0.2680900990962982, training f1: 0.9019374380312122, validation loss: 0.2798425257205963, validation f1: 0.8981198903054426\n"
          ],
          "name": "stdout"
        },
        {
          "output_type": "stream",
          "text": [
            " 55%|█████▍    | 17/31 [47:45<39:08, 167.75s/it]"
          ],
          "name": "stderr"
        },
        {
          "output_type": "stream",
          "text": [
            "epoch: 16, training loss: 0.2656031548976898, training f1: 0.9026036920502285, validation loss: 0.27802735567092896, validation f1: 0.8986958726992942\n"
          ],
          "name": "stdout"
        },
        {
          "output_type": "stream",
          "text": [
            " 58%|█████▊    | 18/31 [50:33<36:22, 167.92s/it]"
          ],
          "name": "stderr"
        },
        {
          "output_type": "stream",
          "text": [
            "epoch: 17, training loss: 0.26329711079597473, training f1: 0.903248454004115, validation loss: 0.2764890491962433, validation f1: 0.899108516802352\n"
          ],
          "name": "stdout"
        },
        {
          "output_type": "stream",
          "text": [
            " 61%|██████▏   | 19/31 [53:22<33:38, 168.19s/it]"
          ],
          "name": "stderr"
        },
        {
          "output_type": "stream",
          "text": [
            "epoch: 18, training loss: 0.26116612553596497, training f1: 0.9038975143710275, validation loss: 0.2751167416572571, validation f1: 0.8994437901360866\n"
          ],
          "name": "stdout"
        },
        {
          "output_type": "stream",
          "text": [
            " 65%|██████▍   | 20/31 [56:12<30:55, 168.72s/it]"
          ],
          "name": "stderr"
        },
        {
          "output_type": "stream",
          "text": [
            "epoch: 19, training loss: 0.2591720223426819, training f1: 0.9043531461517741, validation loss: 0.2737584114074707, validation f1: 0.8996501121876155\n"
          ],
          "name": "stdout"
        },
        {
          "output_type": "stream",
          "text": [
            " 68%|██████▊   | 21/31 [59:02<28:12, 169.27s/it]"
          ],
          "name": "stderr"
        },
        {
          "output_type": "stream",
          "text": [
            "epoch: 20, training loss: 0.2572941184043884, training f1: 0.9049062086277746, validation loss: 0.27252399921417236, validation f1: 0.9000455627863793\n"
          ],
          "name": "stdout"
        },
        {
          "output_type": "stream",
          "text": [
            " 71%|███████   | 22/31 [1:01:52<25:24, 169.39s/it]"
          ],
          "name": "stderr"
        },
        {
          "output_type": "stream",
          "text": [
            "epoch: 21, training loss: 0.25554296374320984, training f1: 0.9054076901474643, validation loss: 0.2713959515094757, validation f1: 0.90021749782932\n"
          ],
          "name": "stdout"
        },
        {
          "output_type": "stream",
          "text": [
            " 74%|███████▍  | 23/31 [1:04:41<22:34, 169.34s/it]"
          ],
          "name": "stderr"
        },
        {
          "output_type": "stream",
          "text": [
            "epoch: 22, training loss: 0.2538736164569855, training f1: 0.9058117409718999, validation loss: 0.27035588026046753, validation f1: 0.9003464491115256\n"
          ],
          "name": "stdout"
        },
        {
          "output_type": "stream",
          "text": [
            " 77%|███████▋  | 24/31 [1:07:29<19:42, 168.99s/it]"
          ],
          "name": "stderr"
        },
        {
          "output_type": "stream",
          "text": [
            "epoch: 23, training loss: 0.25229471921920776, training f1: 0.9063031928611957, validation loss: 0.2694977819919586, validation f1: 0.9004582068894371\n"
          ],
          "name": "stdout"
        },
        {
          "output_type": "stream",
          "text": [
            " 81%|████████  | 25/31 [1:10:20<16:56, 169.44s/it]"
          ],
          "name": "stderr"
        },
        {
          "output_type": "stream",
          "text": [
            "epoch: 24, training loss: 0.2508091628551483, training f1: 0.906672856381424, validation loss: 0.26863452792167664, validation f1: 0.9006731256931132\n"
          ],
          "name": "stdout"
        },
        {
          "output_type": "stream",
          "text": [
            " 84%|████████▍ | 26/31 [1:13:10<14:08, 169.66s/it]"
          ],
          "name": "stderr"
        },
        {
          "output_type": "stream",
          "text": [
            "epoch: 25, training loss: 0.24938644468784332, training f1: 0.907105563292699, validation loss: 0.26781806349754333, validation f1: 0.9007934802231717\n"
          ],
          "name": "stdout"
        },
        {
          "output_type": "stream",
          "text": [
            " 87%|████████▋ | 27/31 [1:15:59<11:17, 169.36s/it]"
          ],
          "name": "stderr"
        },
        {
          "output_type": "stream",
          "text": [
            "epoch: 26, training loss: 0.24802924692630768, training f1: 0.9075425686169999, validation loss: 0.2671981453895569, validation f1: 0.9007676899667306\n"
          ],
          "name": "stdout"
        },
        {
          "output_type": "stream",
          "text": [
            " 90%|█████████ | 28/31 [1:18:48<08:27, 169.21s/it]"
          ],
          "name": "stderr"
        },
        {
          "output_type": "stream",
          "text": [
            "epoch: 27, training loss: 0.24673320353031158, training f1: 0.9078305622897359, validation loss: 0.26655253767967224, validation f1: 0.9008192704796129\n"
          ],
          "name": "stdout"
        },
        {
          "output_type": "stream",
          "text": [
            " 94%|█████████▎| 29/31 [1:21:37<05:38, 169.28s/it]"
          ],
          "name": "stderr"
        },
        {
          "output_type": "stream",
          "text": [
            "epoch: 28, training loss: 0.24547895789146423, training f1: 0.9081572416797051, validation loss: 0.2659539580345154, validation f1: 0.9007934802231717\n"
          ],
          "name": "stdout"
        },
        {
          "output_type": "stream",
          "text": [
            " 97%|█████████▋| 30/31 [1:24:26<02:49, 169.19s/it]"
          ],
          "name": "stderr"
        },
        {
          "output_type": "stream",
          "text": [
            "epoch: 29, training loss: 0.24426354467868805, training f1: 0.908499681917436, validation loss: 0.26542407274246216, validation f1: 0.9009052380010832\n"
          ],
          "name": "stdout"
        },
        {
          "output_type": "stream",
          "text": [
            "100%|██████████| 31/31 [1:27:14<00:00, 168.85s/it]"
          ],
          "name": "stderr"
        },
        {
          "output_type": "stream",
          "text": [
            "epoch: 30, training loss: 0.2431037425994873, training f1: 0.9088191972856955, validation loss: 0.26492905616760254, validation f1: 0.9010599795397299\n"
          ],
          "name": "stdout"
        },
        {
          "output_type": "stream",
          "text": [
            "\n"
          ],
          "name": "stderr"
        }
      ]
    },
    {
      "cell_type": "code",
      "metadata": {
        "trusted": true,
        "id": "Dofjgj3fM0Yl"
      },
      "source": [
        "import pandas as pd\n",
        "sgd_df = pd.DataFrame(data={'train_loss': train_loss_lst_SGD, \n",
        "                            'valid_loss': valid_loss_lst_SGD, \n",
        "                            'train_f1': train_f1_lst_SGD, \n",
        "                            'valid_f1': valid_f1_lst_SGD, \n",
        "                            'category': ['sgd']*len(train_loss_lst_SGD)})\n",
        "\n",
        "sgd_df.to_parquet('./sgd_results.parquet')"
      ],
      "execution_count": null,
      "outputs": []
    },
    {
      "cell_type": "markdown",
      "metadata": {
        "id": "jFBTkQX6h6rn"
      },
      "source": [
        "# Optimizer 2: Adam\n",
        "** Training usually takes over 10 hours. Results are saved in the .parquet file "
      ]
    },
    {
      "cell_type": "code",
      "metadata": {
        "trusted": true,
        "id": "J8wX2uh1M0Ym"
      },
      "source": [
        "params = {\n",
        "    'optimizer': (torch.optim.Adam, {'lr': 0.0005}),\n",
        "    'model': my_resnet_adam,\n",
        "    'epochs': 30,\n",
        "    'batch_size': 64,\n",
        "    'train_data': train_set,\n",
        "    'test_data': test_set\n",
        "    \n",
        "}\n",
        "model, train_loss_lst, valid_loss_lst, train_f1_lst, valid_f1_lst = train_res(**params)"
      ],
      "execution_count": null,
      "outputs": []
    },
    {
      "cell_type": "code",
      "metadata": {
        "trusted": true,
        "id": "aodCWMrgM0Yn"
      },
      "source": [
        "adam_df = belif_df = pd.DataFrame(data={'train_loss': train_loss_lst, \n",
        "                            'valid_loss': valid_loss_lst, \n",
        "                            'train_f1': train_f1_lst, \n",
        "                            'valid_f1': valid_f1_lst, \n",
        "                            'category': ['adam']*len(train_loss_lst_SGD)})\n",
        "\n",
        "adam_df.to_parquet('./adam_results.parquet')"
      ],
      "execution_count": null,
      "outputs": []
    },
    {
      "cell_type": "markdown",
      "metadata": {
        "id": "YUrEr4L2h96O"
      },
      "source": [
        "# Optimizer 3: AdaBelief\n",
        "** Training usually takes over 10 hours. Results are saved in the .parquet file "
      ]
    },
    {
      "cell_type": "code",
      "metadata": {
        "trusted": true,
        "id": "w46ZKwjcM0Yo"
      },
      "source": [
        "params = {\n",
        "    'optimizer': (AdaBelief, {'lr': 0.0005}),\n",
        "    'model': my_resnet_adam_belief,\n",
        "    'epochs': 30,\n",
        "    'batch_size': 64,\n",
        "    'train_data': train_set,\n",
        "    'test_data': test_set\n",
        "    \n",
        "}\n",
        "\n",
        "model_belief, train_loss_lst_belief, valid_loss_lst_belief, train_f1_lst_belief, valid_f1_lst_belief = train_res(**params)"
      ],
      "execution_count": null,
      "outputs": []
    },
    {
      "cell_type": "code",
      "metadata": {
        "trusted": true,
        "id": "rurxBiOmM0Yo"
      },
      "source": [
        "belif_df = pd.DataFrame(data={'train_loss': train_loss_lst_belief, \n",
        "                            'valid_loss': valid_loss_lst_belief, \n",
        "                            'train_f1': train_f1_lst_belief, \n",
        "                            'valid_f1': valid_f1_lst_belief, \n",
        "                            'category': ['belief']*len(train_loss_lst_SGD)})\n",
        "\n",
        "belif_df.to_parquet('./belif_results.parquet')"
      ],
      "execution_count": null,
      "outputs": []
    },
    {
      "cell_type": "markdown",
      "metadata": {
        "id": "Rpvv2Ap6iFIT"
      },
      "source": [
        "# Optimizer 4: Padam\n",
        "** Training usually takes over 10 hours. Results are saved in the .parquet file "
      ]
    },
    {
      "cell_type": "code",
      "metadata": {
        "trusted": true,
        "id": "IQ_lYOpmM0Yc"
      },
      "source": [
        "class Padam(Optimizer):\n",
        "    \"\"\"Implements Partially adaptive momentum estimation (Padam) algorithm.\n",
        "        params (iterable): iterable of parameters to optimize or dicts defining\n",
        "            parameter groups\n",
        "        lr (float, optional): learning rate (default: 1e-1)\n",
        "        betas (Tuple[float, float], optional): coefficients used for computing\n",
        "            running averages of gradient and its square (default: (0.9, 0.999))\n",
        "        eps (float, optional): term added to the denominator to improve\n",
        "            numerical stability (default: 1e-8)\n",
        "        weight_decay (float, optional): weight decay (L2 penalty) (default: 0)\n",
        "        partial (float, optional): partially adaptive parameter\n",
        "    \"\"\"\n",
        "\n",
        "    def __init__(self, params, lr=1e-1, betas=(0.9, 0.999), eps=1e-8, weight_decay=0, amsgrad=True, partial = 1/4):\n",
        "        if not 0.0 <= betas[0] < 1.0:\n",
        "            raise ValueError(\"Invalid beta parameter at index 0: {}\".format(betas[0]))\n",
        "        if not 0.0 <= betas[1] < 1.0:\n",
        "            raise ValueError(\"Invalid beta parameter at index 1: {}\".format(betas[1]))\n",
        "        defaults = dict(lr=lr, betas=betas, eps=eps, weight_decay=weight_decay, amsgrad=amsgrad, partial = partial)\n",
        "        super(Padam, self).__init__(params, defaults)\n",
        "\n",
        "    def step(self, closure=None):\n",
        "        \"\"\"Performs a single optimization step.\n",
        "        Arguments:\n",
        "            closure (callable, optional): A closure that reevaluates the model\n",
        "                and returns the loss.\n",
        "        \"\"\"\n",
        "        loss = None\n",
        "        if closure is not None:\n",
        "            loss = closure()\n",
        "\n",
        "        for group in self.param_groups:\n",
        "            for p in group['params']:\n",
        "                if p.grad is None:\n",
        "                    continue\n",
        "                grad = p.grad.data\n",
        "                if grad.is_sparse:\n",
        "                    raise RuntimeError('Adam does not support sparse gradients, please consider SparseAdam instead')\n",
        "                amsgrad = group['amsgrad']\n",
        "                partial = group['partial']\n",
        "\n",
        "                state = self.state[p]\n",
        "\n",
        "                # State initialization\n",
        "                if len(state) == 0:\n",
        "                    state['step'] = 0\n",
        "                    # Exponential moving average of gradient values\n",
        "                    state['exp_avg'] = torch.zeros_like(p.data)\n",
        "                    # Exponential moving average of squared gradient values\n",
        "                    state['exp_avg_sq'] = torch.zeros_like(p.data)\n",
        "                    if amsgrad:\n",
        "                        # Maintains max of all exp. moving avg. of sq. grad. values\n",
        "                        state['max_exp_avg_sq'] = torch.zeros_like(p.data)\n",
        "\n",
        "                exp_avg, exp_avg_sq = state['exp_avg'], state['exp_avg_sq']\n",
        "                if amsgrad:\n",
        "                    max_exp_avg_sq = state['max_exp_avg_sq']\n",
        "                beta1, beta2 = group['betas']\n",
        "\n",
        "                state['step'] += 1\n",
        "\n",
        "                if group['weight_decay'] != 0:\n",
        "                    grad = grad.add(group['weight_decay'], p.data)\n",
        "\n",
        "                # Decay the first and second moment running average coefficient\n",
        "                exp_avg.mul_(beta1).add_(1 - beta1, grad)\n",
        "                exp_avg_sq.mul_(beta2).addcmul_(1 - beta2, grad, grad)\n",
        "                if amsgrad:\n",
        "                    # Maintains the maximum of all 2nd moment running avg. till now\n",
        "                    torch.max(max_exp_avg_sq, exp_avg_sq, out=max_exp_avg_sq)\n",
        "                    # Use the max. for normalizing running avg. of gradient\n",
        "                    denom = max_exp_avg_sq.sqrt().add_(group['eps'])\n",
        "                else:\n",
        "                    denom = exp_avg_sq.sqrt().add_(group['eps'])\n",
        "\n",
        "                bias_correction1 = 1 - beta1 ** state['step']\n",
        "                bias_correction2 = 1 - beta2 ** state['step']\n",
        "                step_size = group['lr'] * math.sqrt(bias_correction2) / bias_correction1\n",
        "\n",
        "                p.data.addcdiv_(-step_size, exp_avg, denom**(partial*2))\n",
        "                \n",
        "        return loss"
      ],
      "execution_count": null,
      "outputs": []
    },
    {
      "cell_type": "code",
      "metadata": {
        "trusted": true,
        "id": "_9qkmKZdM0Yo"
      },
      "source": [
        "params = {\n",
        "    'optimizer': (Padam, {'lr': 0.0005}),\n",
        "    'model': my_resnet_padam,\n",
        "    'epochs': 30,\n",
        "    'batch_size': 64,\n",
        "    'train_data': train_set,\n",
        "    'test_data': test_set\n",
        "    \n",
        "}\n",
        "\n",
        "model_padam, train_loss_lst_padam, valid_loss_lst_padam, train_f1_lst_padam, valid_f1_lst_padam = train_res(**params)"
      ],
      "execution_count": null,
      "outputs": []
    },
    {
      "cell_type": "code",
      "metadata": {
        "trusted": true,
        "id": "ZNt_ASt6M0Yp"
      },
      "source": [
        "padam_df = pd.DataFrame(data={'train_loss': train_loss_lst_padam, \n",
        "                            'valid_loss': valid_loss_lst_padam, \n",
        "                            'train_f1': train_f1_lst_padam, \n",
        "                            'valid_f1': valid_f1_lst_padam, \n",
        "                            'category': ['padam']*len(train_loss_lst_SGD)})\n",
        "\n",
        "padam_df.to_parquet('./padam_results.parquet')"
      ],
      "execution_count": null,
      "outputs": []
    },
    {
      "cell_type": "markdown",
      "metadata": {
        "id": "07lUxrdSiQY3"
      },
      "source": [
        "# Combine results of 4 optimizors into one .parquet file"
      ]
    },
    {
      "cell_type": "code",
      "metadata": {
        "trusted": true,
        "id": "GpDz4r0LM0Yp"
      },
      "source": [
        "full_df = pd.concat([belief_df, adam_df, padam_df, sgd_df])\n",
        "full_df.to_parquet('./full_df.parquet')"
      ],
      "execution_count": null,
      "outputs": []
    },
    {
      "cell_type": "markdown",
      "metadata": {
        "id": "5WIfxapyieIE"
      },
      "source": [
        "# Load the training/evaluating results trained previously\n",
        "** You could skip this section if you run all the code in one time. Otherwise, you could upload the results you trained previously and load them. In github, trained results are provided."
      ]
    },
    {
      "cell_type": "code",
      "metadata": {
        "id": "Wd5fh7-3M0Yp"
      },
      "source": [
        "import pandas as pd\n",
        "sgd_df = pd.read_parquet('./sgd_results.parquet', engine='pyarrow')\n",
        "adam_df = pd.read_parquet('./adam_results.parquet', engine='pyarrow')\n",
        "belif_df = pd.read_parquet('./belif_results.parquet', engine='pyarrow')\n",
        "padam_df = pd.read_parquet('./padam_results.parquet', engine='pyarrow')\n",
        "full_df = pd.read_parquet('./full_df.parquet', engine='pyarrow')"
      ],
      "execution_count": null,
      "outputs": []
    },
    {
      "cell_type": "markdown",
      "metadata": {
        "id": "pwQ4GBPTkeIk"
      },
      "source": [
        "# Draw diagrams\n",
        "- training cross-entropy loss curves of 4 optimizers\n",
        "- validation cross-entropy loss curves of 4 optimizers\n",
        "- training f1 scores curves of 4 optimizers\n",
        "- validation f1 scores curves of 4 optimizers"
      ]
    },
    {
      "cell_type": "code",
      "metadata": {
        "colab": {
          "base_uri": "https://localhost:8080/",
          "height": 356
        },
        "id": "4NdAVMf4M_eq",
        "outputId": "d9bd6cce-54ff-43b2-a902-b34845cacdf5"
      },
      "source": [
        "from matplotlib.pyplot import MultipleLocator\n",
        "epo=[i for i in range(31)]\n",
        "plt.figure(figsize=(20, 5))\n",
        "plt.subplots_adjust(left=None, bottom=None, right=None, top=None,\n",
        "                wspace=0.5, hspace=0.5)\n",
        "plt.subplot(141)\n",
        "plt.title(\"Training Loss Curve\", fontsize=16)\n",
        "plt.plot(epo, sgd_df['train_loss'], label=\"SGD\")\n",
        "plt.plot(epo, adam_df['train_loss'], label=\"Adam\")\n",
        "plt.plot(epo, belif_df['train_loss'], label=\"AdaBelief\")\n",
        "plt.plot(epo, padam_df['train_loss'], label=\"PAdam\")\n",
        "\n",
        "x_major_locator=MultipleLocator(5)\n",
        "ax=plt.gca()\n",
        "ax.xaxis.set_major_locator(x_major_locator)\n",
        "plt.xlabel(\"Epochs\", fontsize=12)\n",
        "plt.ylabel(\"Cross Entropy Loss\", fontsize=12)\n",
        "plt.legend()\n",
        "\n",
        "\n",
        "plt.subplot(142)\n",
        "\n",
        "plt.title(\"Validation Loss Curve\", fontsize=16)\n",
        "plt.plot(epo, sgd_df['valid_loss'], label=\"SGD\")\n",
        "plt.plot(epo, adam_df['valid_loss'], label=\"Adam\")\n",
        "plt.plot(epo, belif_df['valid_loss'], label=\"AdaBelief\")\n",
        "plt.plot(epo, padam_df['valid_loss'], label=\"PAdam\")\n",
        "x_major_locator=MultipleLocator(5)\n",
        "ax=plt.gca()\n",
        "ax.xaxis.set_major_locator(x_major_locator)\n",
        "plt.xlabel(\"Epochs\", fontsize=12)\n",
        "plt.ylabel(\"Cross Entropy Loss\", fontsize=12)\n",
        "plt.legend()\n",
        "plt.subplot(143)\n",
        "plt.title(\"Training F1 Curve\", fontsize=16)\n",
        "plt.plot(epo, sgd_df['train_f1'], label=\"SGD\")\n",
        "plt.plot(epo, adam_df['train_f1'], label=\"Adam\")\n",
        "plt.plot(epo, belif_df['train_f1'], label=\"AdaBelief\")\n",
        "plt.plot(epo, padam_df['train_f1'], label=\"PAdam\")\n",
        "\n",
        "x_major_locator=MultipleLocator(5)\n",
        "ax=plt.gca()\n",
        "ax.xaxis.set_major_locator(x_major_locator)\n",
        "plt.xlabel(\"Epochs\", fontsize=14)\n",
        "plt.ylabel(\"F1 score\", fontsize=14)\n",
        "plt.legend()\n",
        "\n",
        "\n",
        "plt.subplot(144)\n",
        "\n",
        "plt.title(\"Validation F1 Curve\", fontsize=16)\n",
        "plt.plot(epo, sgd_df['valid_f1'], label=\"SGD\")\n",
        "plt.plot(epo, adam_df['valid_f1'], label=\"Adam\")\n",
        "plt.plot(epo, belif_df['valid_f1'], label=\"AdaBelief\")\n",
        "plt.plot(epo, padam_df['valid_f1'], label=\"PAdam\")\n",
        "x_major_locator=MultipleLocator(5)\n",
        "ax=plt.gca()\n",
        "ax.xaxis.set_major_locator(x_major_locator)\n",
        "\n",
        "plt.xlabel(\"Epochs\", fontsize=14)\n",
        "plt.ylabel(\"F1 score\", fontsize=14)\n",
        "plt.legend()\n",
        "plt.savefig('./res_images.png')\n",
        "plt.show()"
      ],
      "execution_count": null,
      "outputs": [
        {
          "output_type": "display_data",
          "data": {
            "image/png": "[encoded data removed]",
            "text/plain": [
              "<Figure size 1440x360 with 4 Axes>"
            ]
          },
          "metadata": {
            "tags": [],
            "needs_background": "light"
          }
        }
      ]
    },
    {
      "cell_type": "markdown",
      "metadata": {
        "id": "Q1sR504Pkiri"
      },
      "source": [
        "# Draw the structure of model"
      ]
    },
    {
      "cell_type": "code",
      "metadata": {
        "colab": {
          "base_uri": "https://localhost:8080/",
          "height": 118
        },
        "id": "sidrOQ0sNCu2",
        "outputId": "254a0deb-c52e-43f4-b77e-b646369065d3"
      },
      "source": [
        "!pip install torchviz\n",
        "from torchviz import make_dot\n",
        "my_model = get_resnet()\n",
        "out = my_model(torch.randn(64,1,224,224))\n",
        "make_dot(out, dict(my_model.named_parameters())).render('model', format='png')"
      ],
      "execution_count": null,
      "outputs": [
        {
          "output_type": "stream",
          "text": [
            "Requirement already satisfied: torchviz in /usr/local/lib/python3.7/dist-packages (0.0.2)\n",
            "Requirement already satisfied: torch in /usr/local/lib/python3.7/dist-packages (from torchviz) (1.8.1+cu101)\n",
            "Requirement already satisfied: graphviz in /usr/local/lib/python3.7/dist-packages (from torchviz) (0.10.1)\n",
            "Requirement already satisfied: typing-extensions in /usr/local/lib/python3.7/dist-packages (from torch->torchviz) (3.7.4.3)\n",
            "Requirement already satisfied: numpy in /usr/local/lib/python3.7/dist-packages (from torch->torchviz) (1.19.5)\n"
          ],
          "name": "stdout"
        },
        {
          "output_type": "execute_result",
          "data": {
            "application/vnd.google.colaboratory.intrinsic+json": {
              "type": "string"
            },
            "text/plain": [
              "'model.png'"
            ]
          },
          "metadata": {
            "tags": []
          },
          "execution_count": 13
        }
      ]
    }
  ]
}