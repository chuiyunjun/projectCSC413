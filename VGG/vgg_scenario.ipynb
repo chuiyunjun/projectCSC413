{
  "nbformat": 4,
  "nbformat_minor": 0,
  "metadata": {
    "colab": {
      "name": "Untitled0.ipynb",
      "provenance": [],
      "collapsed_sections": []
    },
    "kernelspec": {
      "name": "python3",
      "display_name": "Python 3"
    },
    "language_info": {
      "name": "python"
    },
    "accelerator": "GPU"
  },
  "cells": [
    {
      "cell_type": "code",
      "metadata": {
        "colab": {
          "base_uri": "https://localhost:8080/"
        },
        "id": "wQtb71j4DU1I",
        "outputId": "c67d8222-4498-4d91-bec8-b3fe985f2032"
      },
      "source": [
        "import torch\n",
        "import torch.nn as nn\n",
        "import torch.nn.functional as F\n",
        "import torchvision\n",
        "import torchvision.transforms as transforms\n",
        "from torchvision import models\n",
        "import string\n",
        "import matplotlib.pyplot as plt\n",
        "import numpy as np\n",
        "from pathlib import Path\n",
        "from torch.utils.data import DataLoader\n",
        "from tqdm import tqdm\n",
        "!pip install adabelief-pytorch==0.2.0\n",
        "from adabelief_pytorch import AdaBelief\n",
        "from torch.optim import *\n",
        "import math\n",
        "from sklearn.metrics import f1_score"
      ],
      "execution_count": 141,
      "outputs": [
        {
          "output_type": "stream",
          "text": [
            "Requirement already satisfied: adabelief-pytorch==0.2.0 in /usr/local/lib/python3.7/dist-packages (0.2.0)\n",
            "Requirement already satisfied: colorama>=0.4.0 in /usr/local/lib/python3.7/dist-packages (from adabelief-pytorch==0.2.0) (0.4.4)\n",
            "Requirement already satisfied: tabulate>=0.7 in /usr/local/lib/python3.7/dist-packages (from adabelief-pytorch==0.2.0) (0.8.9)\n",
            "Requirement already satisfied: torch>=0.4.0 in /usr/local/lib/python3.7/dist-packages (from adabelief-pytorch==0.2.0) (1.8.1+cu101)\n",
            "Requirement already satisfied: numpy in /usr/local/lib/python3.7/dist-packages (from torch>=0.4.0->adabelief-pytorch==0.2.0) (1.19.5)\n",
            "Requirement already satisfied: typing-extensions in /usr/local/lib/python3.7/dist-packages (from torch>=0.4.0->adabelief-pytorch==0.2.0) (3.7.4.3)\n"
          ],
          "name": "stdout"
        }
      ]
    },
    {
      "cell_type": "code",
      "metadata": {
        "colab": {
          "base_uri": "https://localhost:8080/"
        },
        "id": "uYxWbW-gD5MC",
        "outputId": "5fd8fdba-2e47-4fe8-c3ab-670d28ef37ee"
      },
      "source": [
        "! /opt/bin/nvidia-smi"
      ],
      "execution_count": 31,
      "outputs": [
        {
          "output_type": "stream",
          "text": [
            "Thu Apr 15 11:18:12 2021       \n",
            "+-----------------------------------------------------------------------------+\n",
            "| NVIDIA-SMI 460.32.03    Driver Version: 460.32.03    CUDA Version: 11.2     |\n",
            "|-------------------------------+----------------------+----------------------+\n",
            "| GPU  Name        Persistence-M| Bus-Id        Disp.A | Volatile Uncorr. ECC |\n",
            "| Fan  Temp  Perf  Pwr:Usage/Cap|         Memory-Usage | GPU-Util  Compute M. |\n",
            "|                               |                      |               MIG M. |\n",
            "|===============================+======================+======================|\n",
            "|   0  Tesla P100-PCIE...  Off  | 00000000:00:04.0 Off |                    0 |\n",
            "| N/A   59C    P0    37W / 250W |   4553MiB / 16280MiB |      0%      Default |\n",
            "|                               |                      |                  N/A |\n",
            "+-------------------------------+----------------------+----------------------+\n",
            "                                                                               \n",
            "+-----------------------------------------------------------------------------+\n",
            "| Processes:                                                                  |\n",
            "|  GPU   GI   CI        PID   Type   Process name                  GPU Memory |\n",
            "|        ID   ID                                                   Usage      |\n",
            "|=============================================================================|\n",
            "+-----------------------------------------------------------------------------+\n"
          ],
          "name": "stdout"
        }
      ]
    },
    {
      "cell_type": "code",
      "metadata": {
        "colab": {
          "base_uri": "https://localhost:8080/"
        },
        "id": "EdOveccnDYJL",
        "outputId": "6ffada91-f639-45fb-bf74-8ef5f9d62c35"
      },
      "source": [
        "device = torch.device(\"cuda:0\" if torch.cuda.is_available() else \"cpu\")\n",
        "print(device)\n",
        "torch.cuda.memory_summary(device=None, abbreviated=False)\n",
        "transform = transforms.Compose(\n",
        "    [transforms.ToTensor(),\n",
        "     transforms.Resize(224),\n",
        "     transforms.Normalize((0.5), (0.5))])\n",
        "\n",
        "train_set = torchvision.datasets.EMNIST(root='./data', train=True, download=True, transform=transform, split='bymerge')\n",
        "test_set = torchvision.datasets.EMNIST(root='./data', train=False, download=False, transform=transform, split='bymerge')\n",
        "\n"
      ],
      "execution_count": 32,
      "outputs": [
        {
          "output_type": "stream",
          "text": [
            "cuda:0\n"
          ],
          "name": "stdout"
        }
      ]
    },
    {
      "cell_type": "code",
      "metadata": {
        "id": "GMIe1lGdmt-j"
      },
      "source": [
        "cfg = {\n",
        "    'VGG_ba_small': [16, 'M', 32, 'M', 64, 'M', 128, 'M', 128, 'M'],\n",
        "    'VGG11': [64, 'M', 128, 'M', 256, 256, 'M', 512, 512, 'M', 512, 512, 'M'],\n",
        "    'VGG13': [64, 64, 'M', 128, 128, 'M', 256, 256, 'M', 512, 512, 'M', 512, 512, 'M'],\n",
        "    'VGG16': [64, 64, 'M', 128, 128, 'M', 256, 256, 256, 'M', 512, 512, 512, 'M', 512, 512, 512, 'M'],\n",
        "    'VGG19': [64, 64, 'M', 128, 128, 'M', 256, 256, 256, 256, 'M', 512, 512, 512, 512, 'M', 512, 512, 512, 512, 'M'],\n",
        "}\n",
        "\n",
        "\n",
        "class VGG(nn.Module):\n",
        "    def __init__(self, vgg_name):\n",
        "        super(VGG, self).__init__()\n",
        "        self.features = self._make_layers(cfg[vgg_name])\n",
        "        self.classifier = nn.Linear(128 * 7 * 7, 47)\n",
        "\n",
        "    def forward(self, x):\n",
        "        out = self.features(x)\n",
        "        out = out.view(out.size(0), -1)\n",
        "        out = F.dropout(out, p=0.5, training=self.training)\n",
        "        out = self.classifier(out)\n",
        "        return out\n",
        "\n",
        "    def _make_layers(self, cfg):\n",
        "        layers = []\n",
        "        in_channels = 1\n",
        "        for x in cfg:\n",
        "            if x == 'M':\n",
        "                layers += [nn.MaxPool2d(kernel_size=2, stride=2)]\n",
        "            else:\n",
        "                layers += [nn.Conv2d(in_channels, x, kernel_size=3, padding=1),\n",
        "                           nn.BatchNorm2d(x),\n",
        "                           nn.ReLU(inplace=True)]\n",
        "                in_channels = x\n",
        "        layers += [nn.AvgPool2d(kernel_size=1, stride=1)]\n",
        "        return nn.Sequential(*layers)"
      ],
      "execution_count": 33,
      "outputs": []
    },
    {
      "cell_type": "code",
      "metadata": {
        "id": "Y1qTpGoLDcaj"
      },
      "source": [
        "def evaluate(model, valid_dl):\n",
        "\n",
        "  # we don't want to add evaluation related computation to computation graph\n",
        "  with torch.no_grad():\n",
        "    criterion = nn.CrossEntropyLoss()\n",
        "    valid_loss_lst = torch.tensor([]).to('cuda')\n",
        "    y_true_lst = torch.tensor([]).to('cuda')\n",
        "    y_pred_lst = torch.tensor([]).to('cuda')\n",
        "    \n",
        "    for X_valid, y_valid in valid_dl:\n",
        "      X_valid = X_valid.to('cuda')\n",
        "      y_valid = y_valid.to('cuda')\n",
        "      pred = model(X_valid)\n",
        "      valid_loss_lst = torch.cat((valid_loss_lst, criterion(pred, y_valid).view(-1)))\n",
        "      predicted = pred.argmax(1).squeeze()\n",
        "      y_pred_lst = torch.cat((y_pred_lst, predicted))\n",
        "      y_true_lst = torch.cat((y_true_lst, y_valid))\n",
        "\n",
        "  return valid_loss_lst.mean().item(), f1_score(y_pred=y_pred_lst.to('cpu'), y_true=y_true_lst.to('cpu'), average='micro')\n",
        "\n",
        "def train(**params):\n",
        "\n",
        "  # define model and move it to gpu  \n",
        "  model = params['model']\n",
        "  model.to('cuda')\n",
        "\n",
        "  # define optimizer\n",
        "  opt = params['optimizer'][0](model.parameters(), **params['optimizer'][1])\n",
        "\n",
        "  # define data loader\n",
        "  \n",
        "  train_dl = DataLoader(params['train_data'], batch_size=params['batch_size'])\n",
        "  valid_dl = DataLoader(params['test_data'], batch_size=params['batch_size'])\n",
        "\n",
        "  # define loss\n",
        "  criterion = torch.nn.CrossEntropyLoss()\n",
        "\n",
        "  # start training\n",
        "  valid_loss_lst = []\n",
        "  train_loss_lst = []\n",
        "  train_f1_lst = []\n",
        "  valid_f1_lst = []\n",
        "\n",
        "  for e in tqdm(range(params['epochs'])):\n",
        "    train_losses = torch.tensor([]).to('cuda')\n",
        "    correct = 0\n",
        "    y_true_lst = torch.tensor([]).to('cuda')\n",
        "    y_pred_lst = torch.tensor([]).to('cuda')\n",
        "    \n",
        "    for X_train, y_train in train_dl:\n",
        "\n",
        "      X_train = X_train.to('cuda')\n",
        "      y_train = y_train.to('cuda')\n",
        "        \n",
        "      pred = model(X_train)\n",
        "      loss = criterion(pred, y_train)\n",
        "\n",
        "      # perform backward propagation\n",
        "      loss.backward()\n",
        "\n",
        "      # update model parameters and clear up gradient after update\n",
        "      opt.step()\n",
        "      opt.zero_grad()\n",
        "      train_losses = torch.cat((train_losses, loss.view(-1)))\n",
        "\n",
        "      with torch.no_grad():\n",
        "        predicted = pred.argmax(1).squeeze()\n",
        "        y_pred_lst = torch.cat((y_pred_lst, predicted))\n",
        "        y_true_lst = torch.cat((y_true_lst, y_train))\n",
        "      \n",
        "        \n",
        "    valid_loss, valid_f1 = evaluate(model, valid_dl)\n",
        "    train_loss = train_losses.mean().item()\n",
        "    train_f1 = f1_score(y_pred=y_pred_lst.to('cpu'), y_true=y_true_lst.to('cpu'), average='micro')\n",
        "    train_loss_lst.append(train_loss)\n",
        "    valid_loss_lst.append(valid_loss)\n",
        "    train_f1_lst.append(train_f1)\n",
        "    valid_f1_lst.append(valid_f1)\n",
        "    \n",
        "\n",
        "    print(f'epoch: {e}, training loss: {train_loss}, training f1: {train_f1}, validation loss: {valid_loss}, validation f1: {valid_f1}')\n",
        "\n",
        "  return model, train_loss_lst, valid_loss_lst, train_f1_lst, valid_f1_lst"
      ],
      "execution_count": 34,
      "outputs": []
    },
    {
      "cell_type": "code",
      "metadata": {
        "colab": {
          "base_uri": "https://localhost:8080/"
        },
        "id": "tNV1lm3lERAc",
        "outputId": "04e98173-b3c8-46fc-df5a-a5e19877f881"
      },
      "source": [
        "my_vgg_SGD = VGG('VGG_ba_small')\n",
        "params = {\n",
        "    'optimizer': (torch.optim.SGD, {'lr': 0.0005, 'momentum': 0.9}),\n",
        "    'model': my_vgg_SGD,\n",
        "    'epochs': 10,\n",
        "    'batch_size': 64,\n",
        "    'train_data': train_set,\n",
        "    'test_data': test_set\n",
        "    \n",
        "}\n",
        "\n",
        "model_SGD, train_loss_lst_SGD, valid_loss_lst_SGD, train_f1_lst_SGD, valid_f1_lst_SGD = train(**params)"
      ],
      "execution_count": 35,
      "outputs": [
        {
          "output_type": "stream",
          "text": [
            "\n",
            "\n",
            "\n",
            "  0%|          | 0/10 [00:00<?, ?it/s]\u001b[A\u001b[A\u001b[A\n",
            "\n",
            "\n",
            " 10%|█         | 1/10 [18:52<2:49:53, 1132.65s/it]\u001b[A\u001b[A\u001b[A"
          ],
          "name": "stderr"
        },
        {
          "output_type": "stream",
          "text": [
            "epoch: 0, training loss: 0.4686826169490814, training f1: 0.8460680983247651, validation loss: 0.3687134385108948, validation f1: 0.8716848774532981\n"
          ],
          "name": "stdout"
        },
        {
          "output_type": "stream",
          "text": [
            "\n",
            "\n",
            "\n",
            " 20%|██        | 2/10 [37:46<2:31:03, 1132.98s/it]\u001b[A\u001b[A\u001b[A"
          ],
          "name": "stderr"
        },
        {
          "output_type": "stream",
          "text": [
            "epoch: 1, training loss: 0.34945404529571533, training f1: 0.8776571356521838, validation loss: 0.339288592338562, validation f1: 0.8799549530187495\n"
          ],
          "name": "stdout"
        },
        {
          "output_type": "stream",
          "text": [
            "\n",
            "\n",
            "\n",
            " 30%|███       | 3/10 [56:33<2:11:58, 1131.20s/it]\u001b[A\u001b[A\u001b[A"
          ],
          "name": "stderr"
        },
        {
          "output_type": "stream",
          "text": [
            "epoch: 2, training loss: 0.3255620300769806, training f1: 0.8845489245370609, validation loss: 0.324160635471344, validation f1: 0.884923875759738\n"
          ],
          "name": "stdout"
        },
        {
          "output_type": "stream",
          "text": [
            "\n",
            "\n",
            "\n",
            " 40%|████      | 4/10 [1:15:09<1:52:39, 1126.56s/it]\u001b[A\u001b[A\u001b[A"
          ],
          "name": "stderr"
        },
        {
          "output_type": "stream",
          "text": [
            "epoch: 3, training loss: 0.31173017621040344, training f1: 0.8884046010213029, validation loss: 0.31169915199279785, validation f1: 0.8883023993535243\n"
          ],
          "name": "stdout"
        },
        {
          "output_type": "stream",
          "text": [
            "\n",
            "\n",
            "\n",
            " 50%|█████     | 5/10 [1:33:33<1:33:19, 1119.95s/it]\u001b[A\u001b[A\u001b[A"
          ],
          "name": "stderr"
        },
        {
          "output_type": "stream",
          "text": [
            "epoch: 4, training loss: 0.3014194667339325, training f1: 0.8915968890952127, validation loss: 0.30904799699783325, validation f1: 0.8889385590124051\n"
          ],
          "name": "stdout"
        },
        {
          "output_type": "stream",
          "text": [
            "\n",
            "\n",
            "\n",
            " 60%|██████    | 6/10 [1:51:42<1:14:02, 1110.65s/it]\u001b[A\u001b[A\u001b[A"
          ],
          "name": "stderr"
        },
        {
          "output_type": "stream",
          "text": [
            "epoch: 5, training loss: 0.29448992013931274, training f1: 0.8933778648922818, validation loss: 0.3012005686759949, validation f1: 0.8927813072221313\n"
          ],
          "name": "stdout"
        },
        {
          "output_type": "stream",
          "text": [
            "\n",
            "\n",
            "\n",
            " 70%|███████   | 7/10 [2:09:50<55:11, 1103.76s/it]  \u001b[A\u001b[A\u001b[A"
          ],
          "name": "stderr"
        },
        {
          "output_type": "stream",
          "text": [
            "epoch: 6, training loss: 0.2882595658302307, training f1: 0.8950771708418586, validation loss: 0.29704833030700684, validation f1: 0.892910258504337\n"
          ],
          "name": "stdout"
        },
        {
          "output_type": "stream",
          "text": [
            "\n",
            "\n",
            "\n",
            " 80%|████████  | 8/10 [2:28:30<36:57, 1108.57s/it]\u001b[A\u001b[A\u001b[A"
          ],
          "name": "stderr"
        },
        {
          "output_type": "stream",
          "text": [
            "epoch: 7, training loss: 0.2831100821495056, training f1: 0.8967965360522229, validation loss: 0.29497283697128296, validation f1: 0.8940278362834521\n"
          ],
          "name": "stdout"
        },
        {
          "output_type": "stream",
          "text": [
            "\n",
            "\n",
            "\n",
            " 90%|█████████ | 9/10 [2:47:09<18:31, 1111.70s/it]\u001b[A\u001b[A\u001b[A"
          ],
          "name": "stderr"
        },
        {
          "output_type": "stream",
          "text": [
            "epoch: 8, training loss: 0.27864325046539307, training f1: 0.8983210398720792, validation loss: 0.29125815629959106, validation f1: 0.895093833549685\n"
          ],
          "name": "stdout"
        },
        {
          "output_type": "stream",
          "text": [
            "\n",
            "\n",
            "\n",
            "100%|██████████| 10/10 [3:05:41<00:00, 1114.19s/it]"
          ],
          "name": "stderr"
        },
        {
          "output_type": "stream",
          "text": [
            "epoch: 9, training loss: 0.2754361033439636, training f1: 0.8990317108256964, validation loss: 0.28914812207221985, validation f1: 0.8938902882490994\n"
          ],
          "name": "stdout"
        },
        {
          "output_type": "stream",
          "text": [
            "\n"
          ],
          "name": "stderr"
        }
      ]
    },
    {
      "cell_type": "code",
      "metadata": {
        "id": "enhoTEm4-hmc"
      },
      "source": [
        "import pandas as pd\n",
        "sgd_df = pd.DataFrame(data={'train_loss': train_loss_lst_SGD, \n",
        "                            'valid_loss': valid_loss_lst_SGD, \n",
        "                            'train_f1': train_f1_lst_SGD, \n",
        "                            'valid_f1': valid_f1_lst_SGD, \n",
        "                            'category': ['sgd']*len(train_loss_lst_SGD)})\n",
        "\n",
        "sgd_df.to_parquet('./sgd_results.parquet')"
      ],
      "execution_count": 37,
      "outputs": []
    },
    {
      "cell_type": "code",
      "metadata": {
        "id": "VkuKO5O96UqE",
        "colab": {
          "base_uri": "https://localhost:8080/"
        },
        "outputId": "4c9db637-083b-4821-df21-5e61cabe4101"
      },
      "source": [
        "my_vgg_Adam = VGG('VGG_ba_small')\n",
        "params = {\n",
        "    'optimizer': (torch.optim.Adam, {'lr': 0.0005}),\n",
        "    'model': my_vgg_Adam,\n",
        "    'epochs': 10,\n",
        "    'batch_size': 64,\n",
        "    'train_data': train_set,\n",
        "    'test_data': test_set\n",
        "}\n",
        "model_Adam, train_loss_lst_Adam, valid_loss_lst_Adam, train_f1_lst_Adam, valid_f1_lst_Adam = train(**params)"
      ],
      "execution_count": 38,
      "outputs": [
        {
          "output_type": "stream",
          "text": [
            "\n",
            "\n",
            "\n",
            "  0%|          | 0/10 [00:00<?, ?it/s]\u001b[A\u001b[A\u001b[A\n",
            "\n",
            "\n",
            " 10%|█         | 1/10 [18:23<2:45:27, 1103.05s/it]\u001b[A\u001b[A\u001b[A"
          ],
          "name": "stderr"
        },
        {
          "output_type": "stream",
          "text": [
            "epoch: 0, training loss: 0.40532299876213074, training f1: 0.8625482138661072, validation loss: 0.3221723735332489, validation f1: 0.8854396808885604\n"
          ],
          "name": "stdout"
        },
        {
          "output_type": "stream",
          "text": [
            "\n",
            "\n",
            "\n",
            " 20%|██        | 2/10 [36:47<2:27:08, 1103.56s/it]\u001b[A\u001b[A\u001b[A"
          ],
          "name": "stderr"
        },
        {
          "output_type": "stream",
          "text": [
            "epoch: 1, training loss: 0.30215516686439514, training f1: 0.8916069187256065, validation loss: 0.2968893051147461, validation f1: 0.8925062111534262\n"
          ],
          "name": "stdout"
        },
        {
          "output_type": "stream",
          "text": [
            "\n",
            "\n",
            "\n",
            " 30%|███       | 3/10 [54:54<2:08:10, 1098.60s/it]\u001b[A\u001b[A\u001b[A"
          ],
          "name": "stderr"
        },
        {
          "output_type": "stream",
          "text": [
            "epoch: 2, training loss: 0.27969852089881897, training f1: 0.8983525615676026, validation loss: 0.284818172454834, validation f1: 0.8970710865435039\n"
          ],
          "name": "stdout"
        },
        {
          "output_type": "stream",
          "text": [
            "\n",
            "\n",
            "\n",
            " 40%|████      | 4/10 [1:13:13<1:49:52, 1098.76s/it]\u001b[A\u001b[A\u001b[A"
          ],
          "name": "stderr"
        },
        {
          "output_type": "stream",
          "text": [
            "epoch: 3, training loss: 0.26750752329826355, training f1: 0.9016623395975539, validation loss: 0.2814164459705353, validation f1: 0.8980511162882663\n"
          ],
          "name": "stdout"
        },
        {
          "output_type": "stream",
          "text": [
            "\n",
            "\n",
            "\n",
            " 50%|█████     | 5/10 [1:31:30<1:31:30, 1098.12s/it]\u001b[A\u001b[A\u001b[A"
          ],
          "name": "stderr"
        },
        {
          "output_type": "stream",
          "text": [
            "epoch: 4, training loss: 0.259922593832016, training f1: 0.9038072476974834, validation loss: 0.2789804935455322, validation f1: 0.8983863896220008\n"
          ],
          "name": "stdout"
        },
        {
          "output_type": "stream",
          "text": [
            "\n",
            "\n",
            "\n",
            " 60%|██████    | 6/10 [1:50:03<1:13:30, 1102.68s/it]\u001b[A\u001b[A\u001b[A"
          ],
          "name": "stderr"
        },
        {
          "output_type": "stream",
          "text": [
            "epoch: 5, training loss: 0.253997266292572, training f1: 0.9055079864514022, validation loss: 0.2739771008491516, validation f1: 0.899968192017056\n"
          ],
          "name": "stdout"
        },
        {
          "output_type": "stream",
          "text": [
            "\n",
            "\n",
            "\n",
            " 70%|███████   | 7/10 [2:08:31<55:12, 1104.09s/it]  \u001b[A\u001b[A\u001b[A"
          ],
          "name": "stderr"
        },
        {
          "output_type": "stream",
          "text": [
            "epoch: 6, training loss: 0.24872644245624542, training f1: 0.906963715662844, validation loss: 0.27318844199180603, validation f1: 0.9010427860354359\n"
          ],
          "name": "stdout"
        },
        {
          "output_type": "stream",
          "text": [
            "\n",
            "\n",
            "\n",
            " 80%|████████  | 8/10 [2:27:13<36:59, 1109.60s/it]\u001b[A\u001b[A\u001b[A"
          ],
          "name": "stderr"
        },
        {
          "output_type": "stream",
          "text": [
            "epoch: 7, training loss: 0.2446349412202835, training f1: 0.9082403443315394, validation loss: 0.26984769105911255, validation f1: 0.9020228157801984\n"
          ],
          "name": "stdout"
        },
        {
          "output_type": "stream",
          "text": [
            "\n",
            "\n",
            "\n",
            " 90%|█████████ | 9/10 [2:46:00<18:34, 1114.68s/it]\u001b[A\u001b[A\u001b[A"
          ],
          "name": "stderr"
        },
        {
          "output_type": "stream",
          "text": [
            "epoch: 8, training loss: 0.24118079245090485, training f1: 0.9091344142409289, validation loss: 0.2735593914985657, validation f1: 0.9010255925311418\n"
          ],
          "name": "stdout"
        },
        {
          "output_type": "stream",
          "text": [
            "\n",
            "\n",
            "\n",
            "100%|██████████| 10/10 [3:04:57<00:00, 1109.80s/it]"
          ],
          "name": "stderr"
        },
        {
          "output_type": "stream",
          "text": [
            "epoch: 9, training loss: 0.23823978006839752, training f1: 0.9104382661921219, validation loss: 0.27121448516845703, validation f1: 0.902177557318845\n"
          ],
          "name": "stdout"
        },
        {
          "output_type": "stream",
          "text": [
            "\n"
          ],
          "name": "stderr"
        }
      ]
    },
    {
      "cell_type": "code",
      "metadata": {
        "id": "A3xwJ7Emo4OV"
      },
      "source": [
        "adam_df =  pd.DataFrame(data={'train_loss': train_loss_lst_Adam, \n",
        "                            'valid_loss': valid_loss_lst_Adam, \n",
        "                            'train_f1': train_f1_lst_Adam, \n",
        "                            'valid_f1': valid_f1_lst_Adam, \n",
        "                            'category': ['adam']*len(train_loss_lst_Adam)})\n",
        "\n",
        "adam_df.to_parquet('./adam_results.parquet')"
      ],
      "execution_count": 41,
      "outputs": []
    },
    {
      "cell_type": "code",
      "metadata": {
        "id": "g91vsa0N7OxK",
        "colab": {
          "base_uri": "https://localhost:8080/"
        },
        "outputId": "c79b3469-8abd-42ac-feb7-e9ee5844230b"
      },
      "source": [
        "my_vgg_AdaBelief = VGG('VGG_ba_small')\n",
        "params = {\n",
        "    'optimizer': (AdaBelief, {'lr': 0.0005}),\n",
        "    'model': my_vgg_AdaBelief,\n",
        "    'epochs': 10,\n",
        "    'batch_size': 64,\n",
        "    'train_data': train_set,\n",
        "    'test_data': test_set\n",
        "}\n",
        "model_AdaBelief, train_loss_lst_AdaBelief, valid_loss_lst_AdaBelief, train_f1_lst_AdaBelief, valid_f1_lst_AdaBelief = train(**params)"
      ],
      "execution_count": 44,
      "outputs": [
        {
          "output_type": "stream",
          "text": [
            "\n",
            "\n",
            "\n",
            "  0%|          | 0/10 [00:00<?, ?it/s]\u001b[A\u001b[A\u001b[A"
          ],
          "name": "stderr"
        },
        {
          "output_type": "stream",
          "text": [
            "\u001b[31mPlease check your arguments if you have upgraded adabelief-pytorch from version 0.0.5.\n",
            "\u001b[31mModifications to default arguments:\n",
            "\u001b[31m                           eps  weight_decouple    rectify\n",
            "-----------------------  -----  -----------------  ---------\n",
            "adabelief-pytorch=0.0.5  1e-08  False              False\n",
            ">=0.1.0 (Current 0.2.0)  1e-16  True               True\n",
            "\u001b[34mSGD better than Adam (e.g. CNN for Image Classification)    Adam better than SGD (e.g. Transformer, GAN)\n",
            "----------------------------------------------------------  ----------------------------------------------\n",
            "Recommended eps = 1e-8                                      Recommended eps = 1e-16\n",
            "\u001b[34mFor a complete table of recommended hyperparameters, see\n",
            "\u001b[34mhttps://github.com/juntang-zhuang/Adabelief-Optimizer\n",
            "\u001b[32mYou can disable the log message by setting \"print_change_log = False\", though it is recommended to keep as a reminder.\n",
            "\u001b[0m\n",
            "Weight decoupling enabled in AdaBelief\n",
            "Rectification enabled in AdaBelief\n"
          ],
          "name": "stdout"
        },
        {
          "output_type": "stream",
          "text": [
            "\n",
            "\n",
            "\n",
            " 10%|█         | 1/10 [19:05<2:51:50, 1145.60s/it]\u001b[A\u001b[A\u001b[A"
          ],
          "name": "stderr"
        },
        {
          "output_type": "stream",
          "text": [
            "epoch: 0, training loss: 0.43632328510284424, training f1: 0.8548110704194678, validation loss: 0.3271429240703583, validation f1: 0.884494038152386\n"
          ],
          "name": "stdout"
        },
        {
          "output_type": "stream",
          "text": [
            "\n",
            "\n",
            "\n",
            " 20%|██        | 2/10 [38:01<2:32:21, 1142.73s/it]\u001b[A\u001b[A\u001b[A"
          ],
          "name": "stderr"
        },
        {
          "output_type": "stream",
          "text": [
            "epoch: 1, training loss: 0.30618026852607727, training f1: 0.8905108234039992, validation loss: 0.29636576771736145, validation f1: 0.8932627253423656\n"
          ],
          "name": "stdout"
        },
        {
          "output_type": "stream",
          "text": [
            "\n",
            "\n",
            "\n",
            " 30%|███       | 3/10 [56:44<2:12:36, 1136.71s/it]\u001b[A\u001b[A\u001b[A"
          ],
          "name": "stderr"
        },
        {
          "output_type": "stream",
          "text": [
            "epoch: 2, training loss: 0.2825118899345398, training f1: 0.8973639265716431, validation loss: 0.2863066494464874, validation f1: 0.8965896684232697\n"
          ],
          "name": "stdout"
        },
        {
          "output_type": "stream",
          "text": [
            "\n",
            "\n",
            "\n",
            " 40%|████      | 4/10 [1:15:28<1:53:18, 1133.04s/it]\u001b[A\u001b[A\u001b[A"
          ],
          "name": "stderr"
        },
        {
          "output_type": "stream",
          "text": [
            "epoch: 3, training loss: 0.26912814378738403, training f1: 0.901226767077595, validation loss: 0.2813362777233124, validation f1: 0.8990741297937639\n"
          ],
          "name": "stdout"
        },
        {
          "output_type": "stream",
          "text": [
            "\n",
            "\n",
            "\n",
            " 50%|█████     | 5/10 [1:34:23<1:34:27, 1133.51s/it]\u001b[A\u001b[A\u001b[A"
          ],
          "name": "stderr"
        },
        {
          "output_type": "stream",
          "text": [
            "epoch: 4, training loss: 0.26102182269096375, training f1: 0.9034963291552759, validation loss: 0.27803149819374084, validation f1: 0.8989537752637053\n"
          ],
          "name": "stdout"
        },
        {
          "output_type": "stream",
          "text": [
            "\n",
            "\n",
            "\n",
            " 60%|██████    | 6/10 [1:53:20<1:15:38, 1134.56s/it]\u001b[A\u001b[A\u001b[A"
          ],
          "name": "stderr"
        },
        {
          "output_type": "stream",
          "text": [
            "epoch: 5, training loss: 0.2543157637119293, training f1: 0.9054621367124591, validation loss: 0.2737492322921753, validation f1: 0.9004152231287019\n"
          ],
          "name": "stdout"
        },
        {
          "output_type": "stream",
          "text": [
            "\n",
            "\n",
            "\n",
            " 70%|███████   | 7/10 [2:12:14<56:43, 1134.53s/it]  \u001b[A\u001b[A\u001b[A"
          ],
          "name": "stderr"
        },
        {
          "output_type": "stream",
          "text": [
            "epoch: 6, training loss: 0.2493111789226532, training f1: 0.9069321939673206, validation loss: 0.272390216588974, validation f1: 0.9011373503090533\n"
          ],
          "name": "stdout"
        },
        {
          "output_type": "stream",
          "text": [
            "\n",
            "\n",
            "\n",
            " 80%|████████  | 8/10 [2:31:22<37:56, 1138.42s/it]\u001b[A\u001b[A\u001b[A"
          ],
          "name": "stderr"
        },
        {
          "output_type": "stream",
          "text": [
            "epoch: 7, training loss: 0.245146244764328, training f1: 0.9077861453551349, validation loss: 0.27176058292388916, validation f1: 0.902409669626815\n"
          ],
          "name": "stdout"
        },
        {
          "output_type": "stream",
          "text": [
            "\n",
            "\n",
            "\n",
            " 90%|█████████ | 9/10 [2:50:31<19:01, 1141.66s/it]\u001b[A\u001b[A\u001b[A"
          ],
          "name": "stderr"
        },
        {
          "output_type": "stream",
          "text": [
            "epoch: 8, training loss: 0.2414223849773407, training f1: 0.9091086237627735, validation loss: 0.2738792300224304, validation f1: 0.9010169957789947\n"
          ],
          "name": "stdout"
        },
        {
          "output_type": "stream",
          "text": [
            "\n",
            "\n",
            "\n",
            "100%|██████████| 10/10 [3:09:25<00:00, 1136.55s/it]"
          ],
          "name": "stderr"
        },
        {
          "output_type": "stream",
          "text": [
            "epoch: 9, training loss: 0.23889192938804626, training f1: 0.9099138598029608, validation loss: 0.2726854979991913, validation f1: 0.9006645289409662\n"
          ],
          "name": "stdout"
        },
        {
          "output_type": "stream",
          "text": [
            "\n"
          ],
          "name": "stderr"
        }
      ]
    },
    {
      "cell_type": "code",
      "metadata": {
        "id": "8yiGbWRxo8LN"
      },
      "source": [
        "\n",
        "belif_df = pd.DataFrame(data={'train_loss': train_loss_lst_AdaBelief, \n",
        "                            'valid_loss': valid_loss_lst_AdaBelief, \n",
        "                            'train_f1': train_f1_lst_AdaBelief, \n",
        "                            'valid_f1': valid_f1_lst_AdaBelief, \n",
        "                            'category': ['belief']*len(train_loss_lst_AdaBelief)})\n",
        "\n",
        "belif_df.to_parquet('./belif_results.parquet')"
      ],
      "execution_count": 46,
      "outputs": []
    },
    {
      "cell_type": "code",
      "metadata": {
        "id": "iVzDtnbW-0yI"
      },
      "source": [
        "class Padam(Optimizer):\n",
        "    \"\"\"Implements Partially adaptive momentum estimation (Padam) algorithm.\n",
        "        params (iterable): iterable of parameters to optimize or dicts defining\n",
        "            parameter groups\n",
        "        lr (float, optional): learning rate (default: 1e-1)\n",
        "        betas (Tuple[float, float], optional): coefficients used for computing\n",
        "            running averages of gradient and its square (default: (0.9, 0.999))\n",
        "        eps (float, optional): term added to the denominator to improve\n",
        "            numerical stability (default: 1e-8)\n",
        "        weight_decay (float, optional): weight decay (L2 penalty) (default: 0)\n",
        "        partial (float, optional): partially adaptive parameter\n",
        "    \"\"\"\n",
        "\n",
        "    def __init__(self, params, lr=1e-1, betas=(0.9, 0.999), eps=1e-8, weight_decay=0, amsgrad=True, partial = 1/4):\n",
        "        if not 0.0 <= betas[0] < 1.0:\n",
        "            raise ValueError(\"Invalid beta parameter at index 0: {}\".format(betas[0]))\n",
        "        if not 0.0 <= betas[1] < 1.0:\n",
        "            raise ValueError(\"Invalid beta parameter at index 1: {}\".format(betas[1]))\n",
        "        defaults = dict(lr=lr, betas=betas, eps=eps, weight_decay=weight_decay, amsgrad=amsgrad, partial = partial)\n",
        "        super(Padam, self).__init__(params, defaults)\n",
        "\n",
        "    def step(self, closure=None):\n",
        "        \"\"\"Performs a single optimization step.\n",
        "        Arguments:\n",
        "            closure (callable, optional): A closure that reevaluates the model\n",
        "                and returns the loss.\n",
        "        \"\"\"\n",
        "        loss = None\n",
        "        if closure is not None:\n",
        "            loss = closure()\n",
        "\n",
        "        for group in self.param_groups:\n",
        "            for p in group['params']:\n",
        "                if p.grad is None:\n",
        "                    continue\n",
        "                grad = p.grad.data\n",
        "                if grad.is_sparse:\n",
        "                    raise RuntimeError('Adam does not support sparse gradients, please consider SparseAdam instead')\n",
        "                amsgrad = group['amsgrad']\n",
        "                partial = group['partial']\n",
        "\n",
        "                state = self.state[p]\n",
        "\n",
        "                # State initialization\n",
        "                if len(state) == 0:\n",
        "                    state['step'] = 0\n",
        "                    # Exponential moving average of gradient values\n",
        "                    state['exp_avg'] = torch.zeros_like(p.data)\n",
        "                    # Exponential moving average of squared gradient values\n",
        "                    state['exp_avg_sq'] = torch.zeros_like(p.data)\n",
        "                    if amsgrad:\n",
        "                        # Maintains max of all exp. moving avg. of sq. grad. values\n",
        "                        state['max_exp_avg_sq'] = torch.zeros_like(p.data)\n",
        "\n",
        "                exp_avg, exp_avg_sq = state['exp_avg'], state['exp_avg_sq']\n",
        "                if amsgrad:\n",
        "                    max_exp_avg_sq = state['max_exp_avg_sq']\n",
        "                beta1, beta2 = group['betas']\n",
        "\n",
        "                state['step'] += 1\n",
        "\n",
        "                if group['weight_decay'] != 0:\n",
        "                    grad = grad.add(group['weight_decay'], p.data)\n",
        "\n",
        "                # Decay the first and second moment running average coefficient\n",
        "                exp_avg.mul_(beta1).add_(1 - beta1, grad)\n",
        "                exp_avg_sq.mul_(beta2).addcmul_(1 - beta2, grad, grad)\n",
        "                if amsgrad:\n",
        "                    # Maintains the maximum of all 2nd moment running avg. till now\n",
        "                    torch.max(max_exp_avg_sq, exp_avg_sq, out=max_exp_avg_sq)\n",
        "                    # Use the max. for normalizing running avg. of gradient\n",
        "                    denom = max_exp_avg_sq.sqrt().add_(group['eps'])\n",
        "                else:\n",
        "                    denom = exp_avg_sq.sqrt().add_(group['eps'])\n",
        "\n",
        "                bias_correction1 = 1 - beta1 ** state['step']\n",
        "                bias_correction2 = 1 - beta2 ** state['step']\n",
        "                step_size = group['lr'] * math.sqrt(bias_correction2) / bias_correction1\n",
        "\n",
        "                p.data.addcdiv_(-step_size, exp_avg, denom**(partial*2))\n",
        "                \n",
        "        return loss\n"
      ],
      "execution_count": 47,
      "outputs": []
    },
    {
      "cell_type": "code",
      "metadata": {
        "id": "EEgqIRiU9xnW",
        "colab": {
          "base_uri": "https://localhost:8080/"
        },
        "outputId": "baeda368-7257-497e-d7eb-879d109a5fca"
      },
      "source": [
        "my_vgg_Padam = VGG('VGG_ba_small')\n",
        "params = {\n",
        "    'optimizer': (Padam, {'lr': 0.0005}),\n",
        "    'model': my_vgg_Padam,\n",
        "    'epochs': 10,\n",
        "    'batch_size': 64,\n",
        "    'train_data': train_set,\n",
        "    'test_data': test_set\n",
        "}\n",
        "model_Padam, train_loss_lst_Padam, valid_loss_lst_Padam, train_f1_lst_Padam, valid_f1_lst_Padam = train(**params)"
      ],
      "execution_count": 49,
      "outputs": [
        {
          "output_type": "stream",
          "text": [
            "\n",
            "\n",
            "\n",
            "  0%|          | 0/10 [00:00<?, ?it/s]\u001b[A\u001b[A\u001b[A/usr/local/lib/python3.7/dist-packages/ipykernel_launcher.py:66: UserWarning: This overload of add_ is deprecated:\n",
            "\tadd_(Number alpha, Tensor other)\n",
            "Consider using one of the following signatures instead:\n",
            "\tadd_(Tensor other, *, Number alpha) (Triggered internally at  /pytorch/torch/csrc/utils/python_arg_parser.cpp:1005.)\n",
            "\n",
            "\n",
            "\n",
            " 10%|█         | 1/10 [18:55<2:50:18, 1135.34s/it]\u001b[A\u001b[A\u001b[A"
          ],
          "name": "stderr"
        },
        {
          "output_type": "stream",
          "text": [
            "epoch: 0, training loss: 0.4945899546146393, training f1: 0.8410188958236618, validation loss: 0.36377882957458496, validation f1: 0.8746249666875854\n"
          ],
          "name": "stdout"
        },
        {
          "output_type": "stream",
          "text": [
            "\n",
            "\n",
            "\n",
            " 20%|██        | 2/10 [37:42<2:31:02, 1132.80s/it]\u001b[A\u001b[A\u001b[A"
          ],
          "name": "stderr"
        },
        {
          "output_type": "stream",
          "text": [
            "epoch: 1, training loss: 0.3400209844112396, training f1: 0.8807176057266324, validation loss: 0.3347501754760742, validation f1: 0.8823534468677733\n"
          ],
          "name": "stdout"
        },
        {
          "output_type": "stream",
          "text": [
            "\n",
            "\n",
            "\n",
            " 30%|███       | 3/10 [56:35<2:12:09, 1132.84s/it]\u001b[A\u001b[A\u001b[A"
          ],
          "name": "stderr"
        },
        {
          "output_type": "stream",
          "text": [
            "epoch: 2, training loss: 0.3177006244659424, training f1: 0.8874661141773124, validation loss: 0.31683042645454407, validation f1: 0.8872364020872915\n"
          ],
          "name": "stdout"
        },
        {
          "output_type": "stream",
          "text": [
            "\n",
            "\n",
            "\n",
            " 40%|████      | 4/10 [1:15:47<1:53:52, 1138.68s/it]\u001b[A\u001b[A\u001b[A"
          ],
          "name": "stderr"
        },
        {
          "output_type": "stream",
          "text": [
            "epoch: 3, training loss: 0.30482596158981323, training f1: 0.8907672953812119, validation loss: 0.3090566396713257, validation f1: 0.8898068309792561\n"
          ],
          "name": "stdout"
        },
        {
          "output_type": "stream",
          "text": [
            "\n",
            "\n",
            "\n",
            " 50%|█████     | 5/10 [1:34:59<1:35:13, 1142.78s/it]\u001b[A\u001b[A\u001b[A"
          ],
          "name": "stderr"
        },
        {
          "output_type": "stream",
          "text": [
            "epoch: 4, training loss: 0.2954528033733368, training f1: 0.8938951072597331, validation loss: 0.3011719286441803, validation f1: 0.8924202436319558\n"
          ],
          "name": "stdout"
        },
        {
          "output_type": "stream",
          "text": [
            "\n",
            "\n",
            "\n",
            " 60%|██████    | 6/10 [1:53:46<1:15:52, 1138.07s/it]\u001b[A\u001b[A\u001b[A"
          ],
          "name": "stderr"
        },
        {
          "output_type": "stream",
          "text": [
            "epoch: 5, training loss: 0.288004994392395, training f1: 0.8956746502524602, validation loss: 0.2978178560733795, validation f1: 0.8934088701288653\n"
          ],
          "name": "stdout"
        },
        {
          "output_type": "stream",
          "text": [
            "\n",
            "\n",
            "\n",
            " 70%|███████   | 7/10 [2:12:46<56:55, 1138.44s/it]  \u001b[A\u001b[A\u001b[A"
          ],
          "name": "stderr"
        },
        {
          "output_type": "stream",
          "text": [
            "epoch: 6, training loss: 0.282694548368454, training f1: 0.8972321085721818, validation loss: 0.2942315638065338, validation f1: 0.892910258504337\n"
          ],
          "name": "stdout"
        },
        {
          "output_type": "stream",
          "text": [
            "\n",
            "\n",
            "\n",
            " 80%|████████  | 8/10 [2:32:09<38:11, 1145.94s/it]\u001b[A\u001b[A\u001b[A"
          ],
          "name": "stderr"
        },
        {
          "output_type": "stream",
          "text": [
            "epoch: 7, training loss: 0.2785903513431549, training f1: 0.898571780631924, validation loss: 0.29116320610046387, validation f1: 0.8941567875656576\n"
          ],
          "name": "stdout"
        },
        {
          "output_type": "stream",
          "text": [
            "\n",
            "\n",
            "\n",
            " 90%|█████████ | 9/10 [2:50:43<18:56, 1136.28s/it]\u001b[A\u001b[A\u001b[A"
          ],
          "name": "stderr"
        },
        {
          "output_type": "stream",
          "text": [
            "epoch: 8, training loss: 0.2743731737136841, training f1: 0.8993483605852719, validation loss: 0.2879578769207001, validation f1: 0.8957901704735951\n"
          ],
          "name": "stdout"
        },
        {
          "output_type": "stream",
          "text": [
            "\n",
            "\n",
            "\n",
            "100%|██████████| 10/10 [3:09:10<00:00, 1135.04s/it]"
          ],
          "name": "stderr"
        },
        {
          "output_type": "stream",
          "text": [
            "epoch: 9, training loss: 0.2710990309715271, training f1: 0.9003656516680708, validation loss: 0.28388693928718567, validation f1: 0.896847570987681\n"
          ],
          "name": "stdout"
        },
        {
          "output_type": "stream",
          "text": [
            "\n"
          ],
          "name": "stderr"
        }
      ]
    },
    {
      "cell_type": "code",
      "metadata": {
        "id": "ZAAWc1CNpA6B"
      },
      "source": [
        "\n",
        "padam_df = pd.DataFrame(data={'train_loss': train_loss_lst_Padam, \n",
        "                            'valid_loss': valid_loss_lst_Padam, \n",
        "                            'train_f1': train_f1_lst_Padam, \n",
        "                            'valid_f1': valid_f1_lst_Padam, \n",
        "                            'category': ['padam']*len(train_loss_lst_Padam)})\n",
        "\n",
        "padam_df.to_parquet('./padam_results.parquet')"
      ],
      "execution_count": 51,
      "outputs": []
    },
    {
      "cell_type": "code",
      "metadata": {
        "id": "y6sWGhk5pESh"
      },
      "source": [
        "full_df = pd.concat([belif_df, adam_df, padam_df, sgd_df])\n",
        "full_df.to_parquet('./full_df30.parquet')"
      ],
      "execution_count": 57,
      "outputs": []
    },
    {
      "cell_type": "code",
      "metadata": {
        "colab": {
          "base_uri": "https://localhost:8080/",
          "height": 355
        },
        "id": "-RIWKaN-_-Qt",
        "outputId": "2463fa10-6219-4402-bddb-55712dddaad5"
      },
      "source": [
        "from matplotlib.pyplot import MultipleLocator\n",
        "epo=[i for i in range(10)]\n",
        "plt.figure(figsize=(10, 5))\n",
        "plt.subplots_adjust(left=None, bottom=None, right=None, top=None,\n",
        "                wspace=0.5, hspace=0.5)\n",
        "plt.subplot(121)\n",
        "plt.title(\"Training Loss Curve\", fontsize=16)\n",
        "plt.plot(epo, sgd_df['train_loss'], label=\"SGD\")\n",
        "plt.plot(epo, adam_df['train_loss'], label=\"Adam\")\n",
        "plt.plot(epo, belif_df['train_loss'], label=\"AdaBelief\")\n",
        "plt.plot(epo, padam_df['train_loss'], label=\"PAdam\")\n",
        "\n",
        "x_major_locator=MultipleLocator(1)\n",
        "ax=plt.gca()\n",
        "ax.xaxis.set_major_locator(x_major_locator)\n",
        "plt.xlabel(\"Epochs\", fontsize=12)\n",
        "plt.ylabel(\"Cross Entropy Loss\", fontsize=12)\n",
        "plt.legend()\n",
        "\n",
        "\n",
        "plt.subplot(122)\n",
        "\n",
        "plt.title(\"Validation Loss Curve\", fontsize=16)\n",
        "plt.plot(epo, sgd_df['valid_loss'], label=\"SGD\")\n",
        "plt.plot(epo, adam_df['valid_loss'], label=\"Adam\")\n",
        "plt.plot(epo, belif_df['valid_loss'], label=\"AdaBelief\")\n",
        "plt.plot(epo, padam_df['valid_loss'], label=\"PAdam\")\n",
        "x_major_locator=MultipleLocator(1)\n",
        "ax=plt.gca()\n",
        "ax.xaxis.set_major_locator(x_major_locator)\n",
        "plt.xlabel(\"Epochs\", fontsize=12)\n",
        "plt.ylabel(\"Cross Entropy Loss\", fontsize=12)\n",
        "plt.legend()\n",
        "plt.savefig('./vgg_loss.png')\n",
        "plt.show()"
      ],
      "execution_count": 140,
      "outputs": [
        {
          "output_type": "display_data",
          "data": {
            "image/png": "[encoded data removed]",
            "text/plain": [
              "<Figure size 720x360 with 2 Axes>"
            ]
          },
          "metadata": {
            "tags": [],
            "needs_background": "light"
          }
        }
      ]
    },
    {
      "cell_type": "code",
      "metadata": {
        "colab": {
          "base_uri": "https://localhost:8080/",
          "height": 356
        },
        "id": "R-FugSM4NVun",
        "outputId": "755e228f-0ce8-4612-8db6-42b633ab3398"
      },
      "source": [
        "from matplotlib.pyplot import MultipleLocator\n",
        "epo=[i for i in range(10)]\n",
        "plt.figure(figsize=(10, 5))\n",
        "plt.subplots_adjust(left=None, bottom=None, right=None, top=None,\n",
        "                wspace=0.5, hspace=0.5)\n",
        "plt.subplot(121)\n",
        "plt.title(\"Training F1 Curve\", fontsize=16)\n",
        "plt.plot(epo, sgd_df['train_f1'], label=\"SGD\")\n",
        "plt.plot(epo, adam_df['train_f1'], label=\"Adam\")\n",
        "plt.plot(epo, belif_df['train_f1'], label=\"AdaBelief\")\n",
        "plt.plot(epo, padam_df['train_f1'], label=\"PAdam\")\n",
        "\n",
        "x_major_locator=MultipleLocator(1)\n",
        "ax=plt.gca()\n",
        "ax.xaxis.set_major_locator(x_major_locator)\n",
        "plt.xlabel(\"Epochs\", fontsize=14)\n",
        "plt.ylabel(\"F1 score\", fontsize=14)\n",
        "plt.legend()\n",
        "\n",
        "\n",
        "plt.subplot(122)\n",
        "\n",
        "plt.title(\"Validation F1 Curve\", fontsize=16)\n",
        "plt.plot(epo, sgd_df['valid_f1'], label=\"SGD\")\n",
        "plt.plot(epo, adam_df['valid_f1'], label=\"Adam\")\n",
        "plt.plot(epo, belif_df['valid_f1'], label=\"AdaBelief\")\n",
        "plt.plot(epo, padam_df['valid_f1'], label=\"PAdam\")\n",
        "x_major_locator=MultipleLocator(1)\n",
        "ax=plt.gca()\n",
        "ax.xaxis.set_major_locator(x_major_locator)\n",
        "\n",
        "plt.xlabel(\"Epochs\", fontsize=14)\n",
        "plt.ylabel(\"F1 score\", fontsize=14)\n",
        "plt.legend()\n",
        "plt.savefig('vgg_f1.png')\n",
        "plt.show()\n"
      ],
      "execution_count": 139,
      "outputs": [
        {
          "output_type": "display_data",
          "data": {
            "image/png": "[encoded data removed]",
            "text/plain": [
              "<Figure size 720x360 with 2 Axes>"
            ]
          },
          "metadata": {
            "tags": [],
            "needs_background": "light"
          }
        }
      ]
    },
    {
      "cell_type": "code",
      "metadata": {
        "colab": {
          "base_uri": "https://localhost:8080/",
          "height": 120
        },
        "id": "q3TDfITrXdcS",
        "outputId": "6a7187ff-0f48-402c-8af1-f021cdda6edd"
      },
      "source": [
        "!pip install torchviz\n",
        "from torchviz import make_dot\n",
        "my_model = VGG('VGG_ba_small')\n",
        "out = my_model(torch.randn(64,1,224,224))\n",
        "make_dot(out, dict(my_model.named_parameters())).render('model', format='png')"
      ],
      "execution_count": 160,
      "outputs": [
        {
          "output_type": "stream",
          "text": [
            "Requirement already satisfied: torchviz in /usr/local/lib/python3.7/dist-packages (0.0.2)\n",
            "Requirement already satisfied: graphviz in /usr/local/lib/python3.7/dist-packages (from torchviz) (0.10.1)\n",
            "Requirement already satisfied: torch in /usr/local/lib/python3.7/dist-packages (from torchviz) (1.8.1+cu101)\n",
            "Requirement already satisfied: typing-extensions in /usr/local/lib/python3.7/dist-packages (from torch->torchviz) (3.7.4.3)\n",
            "Requirement already satisfied: numpy in /usr/local/lib/python3.7/dist-packages (from torch->torchviz) (1.19.5)\n"
          ],
          "name": "stdout"
        },
        {
          "output_type": "execute_result",
          "data": {
            "application/vnd.google.colaboratory.intrinsic+json": {
              "type": "string"
            },
            "text/plain": [
              "'model.png'"
            ]
          },
          "metadata": {
            "tags": []
          },
          "execution_count": 160
        }
      ]
    }
  ]
}