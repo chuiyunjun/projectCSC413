{
  "nbformat": 4,
  "nbformat_minor": 0,
  "metadata": {
    "colab": {
      "name": "VGG epoch 30.ipynb",
      "provenance": [],
      "collapsed_sections": [],
      "toc_visible": true
    },
    "kernelspec": {
      "name": "python3",
      "display_name": "Python 3"
    },
    "language_info": {
      "name": "python"
    },
    "accelerator": "GPU"
  },
  "cells": [
    {
      "cell_type": "code",
      "metadata": {
        "colab": {
          "base_uri": "https://localhost:8080/"
        },
        "id": "wQtb71j4DU1I",
        "outputId": "51dbe581-847f-4435-c389-d8164ab69240"
      },
      "source": [
        "import torch\n",
        "import torch.nn as nn\n",
        "import torch.nn.functional as F\n",
        "import torchvision\n",
        "import torchvision.transforms as transforms\n",
        "from torchvision import models\n",
        "import string\n",
        "import matplotlib.pyplot as plt\n",
        "import numpy as np\n",
        "from pathlib import Path\n",
        "from torch.utils.data import DataLoader\n",
        "from tqdm import tqdm\n",
        "!pip install adabelief-pytorch==0.2.0\n",
        "from adabelief_pytorch import AdaBelief\n",
        "from torch.optim import *\n",
        "import math\n",
        "from sklearn.metrics import f1_score\n",
        "!pip install pyarrow\n",
        "import pandas as pd\n",
        "!pip install torchviz\n",
        "from torchviz import make_dot"
      ],
      "execution_count": 2,
      "outputs": [
        {
          "output_type": "stream",
          "text": [
            "Requirement already satisfied: adabelief-pytorch==0.2.0 in /usr/local/lib/python3.7/dist-packages (0.2.0)\n",
            "Requirement already satisfied: torch>=0.4.0 in /usr/local/lib/python3.7/dist-packages (from adabelief-pytorch==0.2.0) (1.8.1+cu101)\n",
            "Requirement already satisfied: tabulate>=0.7 in /usr/local/lib/python3.7/dist-packages (from adabelief-pytorch==0.2.0) (0.8.9)\n",
            "Requirement already satisfied: colorama>=0.4.0 in /usr/local/lib/python3.7/dist-packages (from adabelief-pytorch==0.2.0) (0.4.4)\n",
            "Requirement already satisfied: typing-extensions in /usr/local/lib/python3.7/dist-packages (from torch>=0.4.0->adabelief-pytorch==0.2.0) (3.7.4.3)\n",
            "Requirement already satisfied: numpy in /usr/local/lib/python3.7/dist-packages (from torch>=0.4.0->adabelief-pytorch==0.2.0) (1.19.5)\n",
            "Requirement already satisfied: pyarrow in /usr/local/lib/python3.7/dist-packages (3.0.0)\n",
            "Requirement already satisfied: numpy>=1.16.6 in /usr/local/lib/python3.7/dist-packages (from pyarrow) (1.19.5)\n",
            "Requirement already satisfied: torchviz in /usr/local/lib/python3.7/dist-packages (0.0.2)\n",
            "Requirement already satisfied: torch in /usr/local/lib/python3.7/dist-packages (from torchviz) (1.8.1+cu101)\n",
            "Requirement already satisfied: graphviz in /usr/local/lib/python3.7/dist-packages (from torchviz) (0.10.1)\n",
            "Requirement already satisfied: numpy in /usr/local/lib/python3.7/dist-packages (from torch->torchviz) (1.19.5)\n",
            "Requirement already satisfied: typing-extensions in /usr/local/lib/python3.7/dist-packages (from torch->torchviz) (3.7.4.3)\n"
          ],
          "name": "stdout"
        }
      ]
    },
    {
      "cell_type": "markdown",
      "metadata": {
        "id": "mgW_5qpTvr04"
      },
      "source": [
        "# GPU info"
      ]
    },
    {
      "cell_type": "code",
      "metadata": {
        "colab": {
          "base_uri": "https://localhost:8080/"
        },
        "id": "uYxWbW-gD5MC",
        "outputId": "5fd8fdba-2e47-4fe8-c3ab-670d28ef37ee"
      },
      "source": [
        "! /opt/bin/nvidia-smi"
      ],
      "execution_count": null,
      "outputs": [
        {
          "output_type": "stream",
          "text": [
            "Thu Apr 15 11:18:12 2021       \n",
            "+-----------------------------------------------------------------------------+\n",
            "| NVIDIA-SMI 460.32.03    Driver Version: 460.32.03    CUDA Version: 11.2     |\n",
            "|-------------------------------+----------------------+----------------------+\n",
            "| GPU  Name        Persistence-M| Bus-Id        Disp.A | Volatile Uncorr. ECC |\n",
            "| Fan  Temp  Perf  Pwr:Usage/Cap|         Memory-Usage | GPU-Util  Compute M. |\n",
            "|                               |                      |               MIG M. |\n",
            "|===============================+======================+======================|\n",
            "|   0  Tesla P100-PCIE...  Off  | 00000000:00:04.0 Off |                    0 |\n",
            "| N/A   59C    P0    37W / 250W |   4553MiB / 16280MiB |      0%      Default |\n",
            "|                               |                      |                  N/A |\n",
            "+-------------------------------+----------------------+----------------------+\n",
            "                                                                               \n",
            "+-----------------------------------------------------------------------------+\n",
            "| Processes:                                                                  |\n",
            "|  GPU   GI   CI        PID   Type   Process name                  GPU Memory |\n",
            "|        ID   ID                                                   Usage      |\n",
            "|=============================================================================|\n",
            "+-----------------------------------------------------------------------------+\n"
          ],
          "name": "stdout"
        }
      ]
    },
    {
      "cell_type": "code",
      "metadata": {
        "colab": {
          "base_uri": "https://localhost:8080/"
        },
        "id": "EdOveccnDYJL",
        "outputId": "6ffada91-f639-45fb-bf74-8ef5f9d62c35"
      },
      "source": [
        "device = torch.device(\"cuda:0\" if torch.cuda.is_available() else \"cpu\")\n",
        "print(device)\n",
        "torch.cuda.memory_summary(device=None, abbreviated=False)\n",
        "transform = transforms.Compose(\n",
        "    [transforms.ToTensor(),\n",
        "     transforms.Resize(224),\n",
        "     transforms.Normalize((0.5), (0.5))])\n",
        "\n",
        "train_set = torchvision.datasets.EMNIST(root='./data', train=True, download=True, transform=transform, split='bymerge')\n",
        "test_set = torchvision.datasets.EMNIST(root='./data', train=False, download=False, transform=transform, split='bymerge')\n",
        "\n"
      ],
      "execution_count": null,
      "outputs": [
        {
          "output_type": "stream",
          "text": [
            "cuda:0\n"
          ],
          "name": "stdout"
        }
      ]
    },
    {
      "cell_type": "markdown",
      "metadata": {
        "id": "gSZnb8L9f3RI"
      },
      "source": [
        "# VGG Model\n",
        "We use a simplified VGGNet compared with standard ones. `VGG_ba_small` in variable `cfg` is used. Compared with VGG 11, some layers are deleted and number of kernels is reduced to 0.25, as shown in `cfg`."
      ]
    },
    {
      "cell_type": "code",
      "metadata": {
        "id": "GMIe1lGdmt-j"
      },
      "source": [
        "cfg = {\n",
        "    'VGG_ba_small': [16, 'M', 32, 'M', 64, 'M', 128, 'M', 128, 'M'],\n",
        "    'VGG11': [64, 'M', 128, 'M', 256, 256, 'M', 512, 512, 'M', 512, 512, 'M'],\n",
        "    'VGG13': [64, 64, 'M', 128, 128, 'M', 256, 256, 'M', 512, 512, 'M', 512, 512, 'M'],\n",
        "    'VGG16': [64, 64, 'M', 128, 128, 'M', 256, 256, 256, 'M', 512, 512, 512, 'M', 512, 512, 512, 'M'],\n",
        "    'VGG19': [64, 64, 'M', 128, 128, 'M', 256, 256, 256, 256, 'M', 512, 512, 512, 512, 'M', 512, 512, 512, 512, 'M'],\n",
        "}\n",
        "\n",
        "\n",
        "class VGG(nn.Module):\n",
        "    def __init__(self, vgg_name):\n",
        "        super(VGG, self).__init__()\n",
        "        self.features = self._make_layers(cfg[vgg_name])\n",
        "        self.classifier = nn.Linear(128 * 7 * 7, 47)\n",
        "\n",
        "    def forward(self, x):\n",
        "        out = self.features(x)\n",
        "        out = out.view(out.size(0), -1)\n",
        "        out = F.dropout(out, p=0.5, training=self.training)\n",
        "        out = self.classifier(out)\n",
        "        return out\n",
        "\n",
        "    def _make_layers(self, cfg):\n",
        "        layers = []\n",
        "        in_channels = 1\n",
        "        for x in cfg:\n",
        "            if x == 'M':\n",
        "                layers += [nn.MaxPool2d(kernel_size=2, stride=2)]\n",
        "            else:\n",
        "                layers += [nn.Conv2d(in_channels, x, kernel_size=3, padding=1),\n",
        "                           nn.BatchNorm2d(x),\n",
        "                           nn.ReLU(inplace=True)]\n",
        "                in_channels = x\n",
        "        layers += [nn.AvgPool2d(kernel_size=1, stride=1)]\n",
        "        return nn.Sequential(*layers)"
      ],
      "execution_count": 3,
      "outputs": []
    },
    {
      "cell_type": "markdown",
      "metadata": {
        "id": "UI477bLBg2Lu"
      },
      "source": [
        "# Train and Evaluate Algorithm"
      ]
    },
    {
      "cell_type": "code",
      "metadata": {
        "id": "Y1qTpGoLDcaj"
      },
      "source": [
        "def evaluate(model, valid_dl):\n",
        "\n",
        "  # we don't want to add evaluation related computation to computation graph\n",
        "  with torch.no_grad():\n",
        "    criterion = nn.CrossEntropyLoss()\n",
        "    valid_loss_lst = torch.tensor([]).to('cuda')\n",
        "    y_true_lst = torch.tensor([]).to('cuda')\n",
        "    y_pred_lst = torch.tensor([]).to('cuda')\n",
        "    \n",
        "    for X_valid, y_valid in valid_dl:\n",
        "      X_valid = X_valid.to('cuda')\n",
        "      y_valid = y_valid.to('cuda')\n",
        "      pred = model(X_valid)\n",
        "      valid_loss_lst = torch.cat((valid_loss_lst, criterion(pred, y_valid).view(-1)))\n",
        "      predicted = pred.argmax(1).squeeze()\n",
        "      y_pred_lst = torch.cat((y_pred_lst, predicted))\n",
        "      y_true_lst = torch.cat((y_true_lst, y_valid))\n",
        "\n",
        "  return valid_loss_lst.mean().item(), f1_score(y_pred=y_pred_lst.to('cpu'), y_true=y_true_lst.to('cpu'), average='micro')\n",
        "\n",
        "def train(**params):\n",
        "\n",
        "  # define model and move it to gpu  \n",
        "  model = params['model']\n",
        "  model.to('cuda')\n",
        "\n",
        "  # define optimizer\n",
        "  opt = params['optimizer'][0](model.parameters(), **params['optimizer'][1])\n",
        "\n",
        "  # define data loader\n",
        "  \n",
        "  train_dl = DataLoader(params['train_data'], batch_size=params['batch_size'])\n",
        "  valid_dl = DataLoader(params['test_data'], batch_size=params['batch_size'])\n",
        "\n",
        "  # define loss\n",
        "  criterion = torch.nn.CrossEntropyLoss()\n",
        "\n",
        "  # start training\n",
        "  valid_loss_lst = []\n",
        "  train_loss_lst = []\n",
        "  train_f1_lst = []\n",
        "  valid_f1_lst = []\n",
        "\n",
        "  for e in tqdm(range(params['epochs'])):\n",
        "    train_losses = torch.tensor([]).to('cuda')\n",
        "    correct = 0\n",
        "    y_true_lst = torch.tensor([]).to('cuda')\n",
        "    y_pred_lst = torch.tensor([]).to('cuda')\n",
        "    \n",
        "    for X_train, y_train in train_dl:\n",
        "\n",
        "      X_train = X_train.to('cuda')\n",
        "      y_train = y_train.to('cuda')\n",
        "        \n",
        "      pred = model(X_train)\n",
        "      loss = criterion(pred, y_train)\n",
        "\n",
        "      # perform backward propagation\n",
        "      loss.backward()\n",
        "\n",
        "      # update model parameters and clear up gradient after update\n",
        "      opt.step()\n",
        "      opt.zero_grad()\n",
        "      train_losses = torch.cat((train_losses, loss.view(-1)))\n",
        "\n",
        "      with torch.no_grad():\n",
        "        predicted = pred.argmax(1).squeeze()\n",
        "        y_pred_lst = torch.cat((y_pred_lst, predicted))\n",
        "        y_true_lst = torch.cat((y_true_lst, y_train))\n",
        "      \n",
        "        \n",
        "    valid_loss, valid_f1 = evaluate(model, valid_dl)\n",
        "    train_loss = train_losses.mean().item()\n",
        "    train_f1 = f1_score(y_pred=y_pred_lst.to('cpu'), y_true=y_true_lst.to('cpu'), average='micro')\n",
        "    train_loss_lst.append(train_loss)\n",
        "    valid_loss_lst.append(valid_loss)\n",
        "    train_f1_lst.append(train_f1)\n",
        "    valid_f1_lst.append(valid_f1)\n",
        "    \n",
        "\n",
        "    print(f'epoch: {e}, training loss: {train_loss}, training f1: {train_f1}, validation loss: {valid_loss}, validation f1: {valid_f1}')\n",
        "\n",
        "  return model, train_loss_lst, valid_loss_lst, train_f1_lst, valid_f1_lst"
      ],
      "execution_count": null,
      "outputs": []
    },
    {
      "cell_type": "markdown",
      "metadata": {
        "id": "nb6UQgUJ3UCu"
      },
      "source": [
        "#Train VGG with different optimizers and evaluate\n",
        "** As mentioned, VGG is a simplified version"
      ]
    },
    {
      "cell_type": "markdown",
      "metadata": {
        "id": "U8n2FFKpg60_"
      },
      "source": [
        "# Optimizer 1: SGD + Momentum\n",
        "** Training usually takes over 10 hours. Results are saved in the .parquet file "
      ]
    },
    {
      "cell_type": "code",
      "metadata": {
        "colab": {
          "base_uri": "https://localhost:8080/"
        },
        "id": "tNV1lm3lERAc",
        "outputId": "483fcc7a-c43f-4112-9937-23d2a65d7229"
      },
      "source": [
        "my_vgg_SGD = VGG('VGG_ba_small')\n",
        "params = {\n",
        "    'optimizer': (torch.optim.SGD, {'lr': 0.0005, 'momentum': 0.9}),\n",
        "    'model': my_vgg_SGD,\n",
        "    'epochs': 30,\n",
        "    'batch_size': 64,\n",
        "    'train_data': train_set,\n",
        "    'test_data': test_set\n",
        "    \n",
        "}\n",
        "\n",
        "model_SGD, train_loss_lst_SGD, valid_loss_lst_SGD, train_f1_lst_SGD, valid_f1_lst_SGD = train(**params)"
      ],
      "execution_count": null,
      "outputs": [
        {
          "output_type": "stream",
          "text": [
            "  3%|▎         | 1/30 [18:10<8:47:04, 1090.49s/it]"
          ],
          "name": "stderr"
        },
        {
          "output_type": "stream",
          "text": [
            "epoch: 0, training loss: 0.4688056409358978, training f1: 0.8456654803046715, validation loss: 0.37327808141708374, validation f1: 0.8721319085649442\n"
          ],
          "name": "stdout"
        },
        {
          "output_type": "stream",
          "text": [
            "\r  7%|▋         | 2/30 [36:22<8:29:06, 1090.95s/it]"
          ],
          "name": "stderr"
        },
        {
          "output_type": "stream",
          "text": [
            "epoch: 1, training loss: 0.347472220659256, training f1: 0.8782574806714695, validation loss: 0.3389529585838318, validation f1: 0.8810983210543056\n"
          ],
          "name": "stdout"
        },
        {
          "output_type": "stream",
          "text": [
            "\r 10%|█         | 3/30 [54:25<8:09:52, 1088.63s/it]"
          ],
          "name": "stderr"
        },
        {
          "output_type": "stream",
          "text": [
            "epoch: 2, training loss: 0.3234083652496338, training f1: 0.8850203171655693, validation loss: 0.3243304491043091, validation f1: 0.8837289272112995\n"
          ],
          "name": "stdout"
        },
        {
          "output_type": "stream",
          "text": [
            "\r 13%|█▎        | 4/30 [1:12:29<7:51:08, 1087.23s/it]"
          ],
          "name": "stderr"
        },
        {
          "output_type": "stream",
          "text": [
            "epoch: 3, training loss: 0.309419184923172, training f1: 0.8889089481496765, validation loss: 0.3148881494998932, validation f1: 0.8870730637964976\n"
          ],
          "name": "stdout"
        },
        {
          "output_type": "stream",
          "text": [
            "\r 17%|█▋        | 5/30 [1:30:35<7:32:52, 1086.90s/it]"
          ],
          "name": "stderr"
        },
        {
          "output_type": "stream",
          "text": [
            "epoch: 4, training loss: 0.30015066266059875, training f1: 0.8915553377692956, validation loss: 0.3095610737800598, validation f1: 0.8887236402087292\n"
          ],
          "name": "stdout"
        },
        {
          "output_type": "stream",
          "text": [
            "\r 20%|██        | 6/30 [1:48:37<7:14:09, 1085.41s/it]"
          ],
          "name": "stderr"
        },
        {
          "output_type": "stream",
          "text": [
            "epoch: 5, training loss: 0.2930055856704712, training f1: 0.8941157591283965, validation loss: 0.29966476559638977, validation f1: 0.8915003911522227\n"
          ],
          "name": "stdout"
        },
        {
          "output_type": "stream",
          "text": [
            "\r 23%|██▎       | 7/30 [2:06:28<6:54:24, 1081.09s/it]"
          ],
          "name": "stderr"
        },
        {
          "output_type": "stream",
          "text": [
            "epoch: 6, training loss: 0.28703799843788147, training f1: 0.895488385688004, validation loss: 0.29709145426750183, validation f1: 0.893572208419659\n"
          ],
          "name": "stdout"
        },
        {
          "output_type": "stream",
          "text": [
            "\r 27%|██▋       | 8/30 [2:24:19<6:35:14, 1077.91s/it]"
          ],
          "name": "stderr"
        },
        {
          "output_type": "stream",
          "text": [
            "epoch: 7, training loss: 0.28179457783699036, training f1: 0.8970458440077258, validation loss: 0.2936166226863861, validation f1: 0.8944920608993923\n"
          ],
          "name": "stdout"
        },
        {
          "output_type": "stream",
          "text": [
            "\r 30%|███       | 9/30 [2:42:04<6:15:54, 1074.05s/it]"
          ],
          "name": "stderr"
        },
        {
          "output_type": "stream",
          "text": [
            "epoch: 8, training loss: 0.2777079641819, training f1: 0.8983611583936545, validation loss: 0.2903459072113037, validation f1: 0.8951368173104202\n"
          ],
          "name": "stdout"
        },
        {
          "output_type": "stream",
          "text": [
            "\r 33%|███▎      | 10/30 [2:59:52<5:57:26, 1072.35s/it]"
          ],
          "name": "stderr"
        },
        {
          "output_type": "stream",
          "text": [
            "epoch: 9, training loss: 0.2735957205295563, training f1: 0.8994214336067125, validation loss: 0.2901502847671509, validation f1: 0.8948359309852738\n"
          ],
          "name": "stdout"
        },
        {
          "output_type": "stream",
          "text": [
            "\r 37%|███▋      | 11/30 [3:17:48<5:39:51, 1073.25s/it]"
          ],
          "name": "stderr"
        },
        {
          "output_type": "stream",
          "text": [
            "epoch: 10, training loss: 0.27184611558914185, training f1: 0.899824051626806, validation loss: 0.28522998094558716, validation f1: 0.8978361974845903\n"
          ],
          "name": "stdout"
        },
        {
          "output_type": "stream",
          "text": [
            "\r 40%|████      | 12/30 [3:35:34<5:21:23, 1071.30s/it]"
          ],
          "name": "stderr"
        },
        {
          "output_type": "stream",
          "text": [
            "epoch: 11, training loss: 0.2682205140590668, training f1: 0.9012812136425898, validation loss: 0.2840608060359955, validation f1: 0.8978963747496196\n"
          ],
          "name": "stdout"
        },
        {
          "output_type": "stream",
          "text": [
            "\r 43%|████▎     | 13/30 [3:53:26<5:03:34, 1071.45s/it]"
          ],
          "name": "stderr"
        },
        {
          "output_type": "stream",
          "text": [
            "epoch: 12, training loss: 0.26516929268836975, training f1: 0.9019703925310776, validation loss: 0.2822911739349365, validation f1: 0.8977158429545318\n"
          ],
          "name": "stdout"
        },
        {
          "output_type": "stream",
          "text": [
            "\r 47%|████▋     | 14/30 [4:11:11<4:45:14, 1069.63s/it]"
          ],
          "name": "stderr"
        },
        {
          "output_type": "stream",
          "text": [
            "epoch: 13, training loss: 0.2627596855163574, training f1: 0.9028730592665188, validation loss: 0.28089040517807007, validation f1: 0.8981284870575896\n"
          ],
          "name": "stdout"
        },
        {
          "output_type": "stream",
          "text": [
            "\r 50%|█████     | 15/30 [4:28:56<4:27:03, 1068.21s/it]"
          ],
          "name": "stderr"
        },
        {
          "output_type": "stream",
          "text": [
            "epoch: 14, training loss: 0.26051875948905945, training f1: 0.9031467248958351, validation loss: 0.28021901845932007, validation f1: 0.8985755181692356\n"
          ],
          "name": "stdout"
        },
        {
          "output_type": "stream",
          "text": [
            "\r 53%|█████▎    | 16/30 [4:46:40<4:08:56, 1066.90s/it]"
          ],
          "name": "stderr"
        },
        {
          "output_type": "stream",
          "text": [
            "epoch: 15, training loss: 0.2589694559574127, training f1: 0.9037843228280119, validation loss: 0.27934759855270386, validation f1: 0.8984723571434712\n"
          ],
          "name": "stdout"
        },
        {
          "output_type": "stream",
          "text": [
            "\r 57%|█████▋    | 17/30 [5:04:14<3:50:18, 1062.96s/it]"
          ],
          "name": "stderr"
        },
        {
          "output_type": "stream",
          "text": [
            "epoch: 16, training loss: 0.2570180594921112, training f1: 0.904453442455712, validation loss: 0.2786213457584381, validation f1: 0.8989365817594113\n"
          ],
          "name": "stdout"
        },
        {
          "output_type": "stream",
          "text": [
            "\r 60%|██████    | 18/30 [5:21:50<3:32:10, 1060.92s/it]"
          ],
          "name": "stderr"
        },
        {
          "output_type": "stream",
          "text": [
            "epoch: 17, training loss: 0.25500014424324036, training f1: 0.9052830361697128, validation loss: 0.277706503868103, validation f1: 0.899099920050205\n"
          ],
          "name": "stdout"
        },
        {
          "output_type": "stream",
          "text": [
            "\r 63%|██████▎   | 19/30 [5:39:33<3:14:38, 1061.65s/it]"
          ],
          "name": "stderr"
        },
        {
          "output_type": "stream",
          "text": [
            "epoch: 18, training loss: 0.25314927101135254, training f1: 0.9056312076248116, validation loss: 0.27669623494148254, validation f1: 0.8988162272293527\n"
          ],
          "name": "stdout"
        },
        {
          "output_type": "stream",
          "text": [
            "\r 67%|██████▋   | 20/30 [5:57:32<2:57:45, 1066.59s/it]"
          ],
          "name": "stderr"
        },
        {
          "output_type": "stream",
          "text": [
            "epoch: 19, training loss: 0.25163376331329346, training f1: 0.9061054658620038, validation loss: 0.27351653575897217, validation f1: 0.899770466717674\n"
          ],
          "name": "stdout"
        },
        {
          "output_type": "stream",
          "text": [
            "\r 70%|███████   | 21/30 [6:15:18<2:39:59, 1066.62s/it]"
          ],
          "name": "stderr"
        },
        {
          "output_type": "stream",
          "text": [
            "epoch: 20, training loss: 0.25019416213035583, training f1: 0.9064163844042114, validation loss: 0.27399367094039917, validation f1: 0.9009740120182596\n"
          ],
          "name": "stdout"
        },
        {
          "output_type": "stream",
          "text": [
            "\r 73%|███████▎  | 22/30 [6:33:01<2:22:03, 1065.39s/it]"
          ],
          "name": "stderr"
        },
        {
          "output_type": "stream",
          "text": [
            "epoch: 21, training loss: 0.2483709752559662, training f1: 0.9068705833806159, validation loss: 0.27514785528182983, validation f1: 0.8998306439827033\n"
          ],
          "name": "stdout"
        },
        {
          "output_type": "stream",
          "text": [
            "\r 77%|███████▋  | 23/30 [6:50:44<2:04:13, 1064.74s/it]"
          ],
          "name": "stderr"
        },
        {
          "output_type": "stream",
          "text": [
            "epoch: 22, training loss: 0.24727194011211395, training f1: 0.9070496839233622, validation loss: 0.27127891778945923, validation f1: 0.9010169957789947\n"
          ],
          "name": "stdout"
        },
        {
          "output_type": "stream",
          "text": [
            "\r 80%|████████  | 24/30 [7:08:21<1:46:14, 1062.48s/it]"
          ],
          "name": "stderr"
        },
        {
          "output_type": "stream",
          "text": [
            "epoch: 23, training loss: 0.24585475027561188, training f1: 0.907728833181456, validation loss: 0.2711344063282013, validation f1: 0.9011545438133475\n"
          ],
          "name": "stdout"
        },
        {
          "output_type": "stream",
          "text": [
            "\r 83%|████████▎ | 25/30 [7:26:06<1:28:35, 1063.06s/it]"
          ],
          "name": "stderr"
        },
        {
          "output_type": "stream",
          "text": [
            "epoch: 24, training loss: 0.24487142264842987, training f1: 0.908115690353788, validation loss: 0.27036699652671814, validation f1: 0.9020314125323453\n"
          ],
          "name": "stdout"
        },
        {
          "output_type": "stream",
          "text": [
            "\r 87%|████████▋ | 26/30 [7:43:51<1:10:54, 1063.68s/it]"
          ],
          "name": "stderr"
        },
        {
          "output_type": "stream",
          "text": [
            "epoch: 25, training loss: 0.24361203610897064, training f1: 0.9085684565258506, validation loss: 0.2718549966812134, validation f1: 0.9002948685986434\n"
          ],
          "name": "stdout"
        },
        {
          "output_type": "stream",
          "text": [
            "\r 90%|█████████ | 27/30 [8:01:28<53:04, 1061.61s/it]  "
          ],
          "name": "stderr"
        },
        {
          "output_type": "stream",
          "text": [
            "epoch: 26, training loss: 0.24218565225601196, training f1: 0.9090642068281723, validation loss: 0.2700176239013672, validation f1: 0.9020228157801984\n"
          ],
          "name": "stdout"
        },
        {
          "output_type": "stream",
          "text": [
            "\r 93%|█████████▎| 28/30 [8:19:13<35:25, 1062.76s/it]"
          ],
          "name": "stderr"
        },
        {
          "output_type": "stream",
          "text": [
            "epoch: 27, training loss: 0.24115371704101562, training f1: 0.9091659359364522, validation loss: 0.27082470059394836, validation f1: 0.9009740120182596\n"
          ],
          "name": "stdout"
        },
        {
          "output_type": "stream",
          "text": [
            "\r 97%|█████████▋| 29/30 [8:37:01<17:44, 1064.42s/it]"
          ],
          "name": "stderr"
        },
        {
          "output_type": "stream",
          "text": [
            "epoch: 28, training loss: 0.24029499292373657, training f1: 0.9097189984124527, validation loss: 0.2696806788444519, validation f1: 0.9007762867188777\n"
          ],
          "name": "stdout"
        },
        {
          "output_type": "stream",
          "text": [
            "100%|██████████| 30/30 [8:54:54<00:00, 1069.82s/it]"
          ],
          "name": "stderr"
        },
        {
          "output_type": "stream",
          "text": [
            "epoch: 29, training loss: 0.2386067807674408, training f1: 0.9099826344113753, validation loss: 0.2700476050376892, validation f1: 0.9010513827875829\n"
          ],
          "name": "stdout"
        },
        {
          "output_type": "stream",
          "text": [
            "\n"
          ],
          "name": "stderr"
        }
      ]
    },
    {
      "cell_type": "code",
      "metadata": {
        "id": "enhoTEm4-hmc"
      },
      "source": [
        "import pandas as pd\n",
        "sgd_df = pd.DataFrame(data={'train_loss': train_loss_lst_SGD, \n",
        "                            'valid_loss': valid_loss_lst_SGD, \n",
        "                            'train_f1': train_f1_lst_SGD, \n",
        "                            'valid_f1': valid_f1_lst_SGD, \n",
        "                            'category': ['sgd']*len(train_loss_lst_SGD)})\n",
        "\n",
        "sgd_df.to_parquet('./sgd_results.parquet')"
      ],
      "execution_count": null,
      "outputs": []
    },
    {
      "cell_type": "markdown",
      "metadata": {
        "id": "jFBTkQX6h6rn"
      },
      "source": [
        "# Optimizer 2: Adam\n",
        "** Training usually takes over 10 hours. Results are saved in the .parquet file "
      ]
    },
    {
      "cell_type": "code",
      "metadata": {
        "id": "VkuKO5O96UqE",
        "colab": {
          "base_uri": "https://localhost:8080/"
        },
        "outputId": "bbf3ab4d-57da-4e06-e40d-2b83d93ea821"
      },
      "source": [
        "my_vgg_Adam = VGG('VGG_ba_small')\n",
        "params = {\n",
        "    'optimizer': (torch.optim.Adam, {'lr': 0.0005}),\n",
        "    'model': my_vgg_Adam,\n",
        "    'epochs': 30,\n",
        "    'batch_size': 64,\n",
        "    'train_data': train_set,\n",
        "    'test_data': test_set\n",
        "}\n",
        "model_Adam, train_loss_lst_Adam, valid_loss_lst_Adam, train_f1_lst_Adam, valid_f1_lst_Adam = train(**params)"
      ],
      "execution_count": null,
      "outputs": [
        {
          "output_type": "stream",
          "text": [
            "  3%|▎         | 1/30 [18:19<8:51:15, 1099.15s/it]"
          ],
          "name": "stderr"
        },
        {
          "output_type": "stream",
          "text": [
            "epoch: 0, training loss: 0.40286922454833984, training f1: 0.8634279557320771, validation loss: 0.3221478760242462, validation f1: 0.8847777309732382\n"
          ],
          "name": "stdout"
        },
        {
          "output_type": "stream",
          "text": [
            "\r  7%|▋         | 2/30 [36:37<8:32:46, 1098.79s/it]"
          ],
          "name": "stderr"
        },
        {
          "output_type": "stream",
          "text": [
            "epoch: 1, training loss: 0.30247145891189575, training f1: 0.8910380954018443, validation loss: 0.2954317033290863, validation f1: 0.8929790325215133\n"
          ],
          "name": "stdout"
        },
        {
          "output_type": "stream",
          "text": [
            "\r 10%|█         | 3/30 [55:06<8:15:55, 1102.06s/it]"
          ],
          "name": "stderr"
        },
        {
          "output_type": "stream",
          "text": [
            "epoch: 2, training loss: 0.2806757092475891, training f1: 0.8976476218313532, validation loss: 0.2868461012840271, validation f1: 0.8965982651754167\n"
          ],
          "name": "stdout"
        },
        {
          "output_type": "stream",
          "text": [
            "\r 13%|█▎        | 4/30 [1:13:38<7:58:49, 1104.97s/it]"
          ],
          "name": "stderr"
        },
        {
          "output_type": "stream",
          "text": [
            "epoch: 3, training loss: 0.26887819170951843, training f1: 0.901321332164165, validation loss: 0.28105276823043823, validation f1: 0.8975782949201792\n"
          ],
          "name": "stdout"
        },
        {
          "output_type": "stream",
          "text": [
            "\r 17%|█▋        | 5/30 [1:32:07<7:40:57, 1106.29s/it]"
          ],
          "name": "stderr"
        },
        {
          "output_type": "stream",
          "text": [
            "epoch: 4, training loss: 0.2605642080307007, training f1: 0.9038659926755042, validation loss: 0.2783723473548889, validation f1: 0.8983004221005304\n"
          ],
          "name": "stdout"
        },
        {
          "output_type": "stream",
          "text": [
            "\r 20%|██        | 6/30 [1:50:38<7:23:03, 1107.66s/it]"
          ],
          "name": "stderr"
        },
        {
          "output_type": "stream",
          "text": [
            "epoch: 5, training loss: 0.25421807169914246, training f1: 0.9055982531249462, validation loss: 0.2750374972820282, validation f1: 0.9005527711630545\n"
          ],
          "name": "stdout"
        },
        {
          "output_type": "stream",
          "text": [
            "\r 23%|██▎       | 7/30 [2:09:09<7:04:55, 1108.49s/it]"
          ],
          "name": "stderr"
        },
        {
          "output_type": "stream",
          "text": [
            "epoch: 6, training loss: 0.24910643696784973, training f1: 0.9069866405323155, validation loss: 0.27534496784210205, validation f1: 0.9006387386845249\n"
          ],
          "name": "stdout"
        },
        {
          "output_type": "stream",
          "text": [
            "\r 27%|██▋       | 8/30 [2:27:44<6:47:10, 1110.46s/it]"
          ],
          "name": "stderr"
        },
        {
          "output_type": "stream",
          "text": [
            "epoch: 7, training loss: 0.2450942099094391, training f1: 0.9081830321578607, validation loss: 0.2729085683822632, validation f1: 0.9007161094538484\n"
          ],
          "name": "stdout"
        },
        {
          "output_type": "stream",
          "text": [
            "\r 30%|███       | 9/30 [2:46:25<6:29:44, 1113.56s/it]"
          ],
          "name": "stderr"
        },
        {
          "output_type": "stream",
          "text": [
            "epoch: 8, training loss: 0.24179452657699585, training f1: 0.9092461729796026, validation loss: 0.2720339298248291, validation f1: 0.9015070106513761\n"
          ],
          "name": "stdout"
        },
        {
          "output_type": "stream",
          "text": [
            "\r 33%|███▎      | 10/30 [3:05:10<6:12:21, 1117.07s/it]"
          ],
          "name": "stderr"
        },
        {
          "output_type": "stream",
          "text": [
            "epoch: 9, training loss: 0.23857054114341736, training f1: 0.9099195910203286, validation loss: 0.2744884490966797, validation f1: 0.9018508807372575\n"
          ],
          "name": "stdout"
        },
        {
          "output_type": "stream",
          "text": [
            "\r 37%|███▋      | 11/30 [3:23:53<5:54:17, 1118.82s/it]"
          ],
          "name": "stderr"
        },
        {
          "output_type": "stream",
          "text": [
            "epoch: 10, training loss: 0.23578909039497375, training f1: 0.9107119318214382, validation loss: 0.27231869101524353, validation f1: 0.901730526207199\n"
          ],
          "name": "stdout"
        },
        {
          "output_type": "stream",
          "text": [
            "\r 40%|████      | 12/30 [3:42:32<5:35:40, 1118.93s/it]"
          ],
          "name": "stderr"
        },
        {
          "output_type": "stream",
          "text": [
            "epoch: 11, training loss: 0.23271776735782623, training f1: 0.9118982938165896, validation loss: 0.2717337906360626, validation f1: 0.9016961391986109\n"
          ],
          "name": "stdout"
        },
        {
          "output_type": "stream",
          "text": [
            "\r 43%|████▎     | 13/30 [4:01:02<5:16:19, 1116.42s/it]"
          ],
          "name": "stderr"
        },
        {
          "output_type": "stream",
          "text": [
            "epoch: 12, training loss: 0.23052245378494263, training f1: 0.9124427594665383, validation loss: 0.27160316705703735, validation f1: 0.9016617521900226\n"
          ],
          "name": "stdout"
        },
        {
          "output_type": "stream",
          "text": [
            "\r 47%|████▋     | 14/30 [4:19:44<4:58:06, 1117.88s/it]"
          ],
          "name": "stderr"
        },
        {
          "output_type": "stream",
          "text": [
            "epoch: 13, training loss: 0.22808855772018433, training f1: 0.9130072843772746, validation loss: 0.2716122567653656, validation f1: 0.9020228157801984\n"
          ],
          "name": "stdout"
        },
        {
          "output_type": "stream",
          "text": [
            "\r 50%|█████     | 15/30 [4:38:33<4:40:20, 1121.37s/it]"
          ],
          "name": "stderr"
        },
        {
          "output_type": "stream",
          "text": [
            "epoch: 14, training loss: 0.22591285407543182, training f1: 0.9135130643099902, validation loss: 0.27389824390411377, validation f1: 0.9021173800538157\n"
          ],
          "name": "stdout"
        },
        {
          "output_type": "stream",
          "text": [
            "\r 53%|█████▎    | 16/30 [4:57:28<4:22:34, 1125.36s/it]"
          ],
          "name": "stderr"
        },
        {
          "output_type": "stream",
          "text": [
            "epoch: 15, training loss: 0.2239813506603241, training f1: 0.914286778654654, validation loss: 0.27228400111198425, validation f1: 0.9020486060366394\n"
          ],
          "name": "stdout"
        },
        {
          "output_type": "stream",
          "text": [
            "\r 57%|█████▋    | 17/30 [5:16:21<4:04:18, 1127.60s/it]"
          ],
          "name": "stderr"
        },
        {
          "output_type": "stream",
          "text": [
            "epoch: 16, training loss: 0.2218758761882782, training f1: 0.9148126178481572, validation loss: 0.2738974392414093, validation f1: 0.9023237021053446\n"
          ],
          "name": "stdout"
        },
        {
          "output_type": "stream",
          "text": [
            "\r 60%|██████    | 18/30 [5:35:17<3:46:02, 1130.21s/it]"
          ],
          "name": "stderr"
        },
        {
          "output_type": "stream",
          "text": [
            "epoch: 17, training loss: 0.21983864903450012, training f1: 0.9155548104972977, validation loss: 0.27505987882614136, validation f1: 0.90152420415567\n"
          ],
          "name": "stdout"
        },
        {
          "output_type": "stream",
          "text": [
            "\r 63%|██████▎   | 19/30 [5:54:02<3:26:55, 1128.70s/it]"
          ],
          "name": "stderr"
        },
        {
          "output_type": "stream",
          "text": [
            "epoch: 18, training loss: 0.2186262607574463, training f1: 0.9160777840821169, validation loss: 0.27431720495224, validation f1: 0.9018422839851105\n"
          ],
          "name": "stdout"
        },
        {
          "output_type": "stream",
          "text": [
            "\r 67%|██████▋   | 20/30 [6:12:40<3:07:33, 1125.32s/it]"
          ],
          "name": "stderr"
        },
        {
          "output_type": "stream",
          "text": [
            "epoch: 19, training loss: 0.21704722940921783, training f1: 0.9166093544929879, validation loss: 0.2746519446372986, validation f1: 0.9026675721912262\n"
          ],
          "name": "stdout"
        },
        {
          "output_type": "stream",
          "text": [
            "\r 70%|███████   | 21/30 [6:31:18<2:48:29, 1123.32s/it]"
          ],
          "name": "stderr"
        },
        {
          "output_type": "stream",
          "text": [
            "epoch: 20, training loss: 0.2152322232723236, training f1: 0.9167712613836305, validation loss: 0.2745105028152466, validation f1: 0.9023408956096386\n"
          ],
          "name": "stdout"
        },
        {
          "output_type": "stream",
          "text": [
            "\r 73%|███████▎  | 22/30 [6:49:54<2:29:28, 1121.04s/it]"
          ],
          "name": "stderr"
        },
        {
          "output_type": "stream",
          "text": [
            "epoch: 21, training loss: 0.21325889229774475, training f1: 0.9173429503160766, validation loss: 0.27924612164497375, validation f1: 0.900845060736054\n"
          ],
          "name": "stdout"
        },
        {
          "output_type": "stream",
          "text": [
            "\r 77%|███████▋  | 23/30 [7:08:34<2:10:45, 1120.81s/it]"
          ],
          "name": "stderr"
        },
        {
          "output_type": "stream",
          "text": [
            "epoch: 22, training loss: 0.21258139610290527, training f1: 0.9176796593364397, validation loss: 0.2798953950405121, validation f1: 0.9007934802231717\n"
          ],
          "name": "stdout"
        },
        {
          "output_type": "stream",
          "text": [
            "\r 80%|████████  | 24/30 [7:27:18<1:52:10, 1121.72s/it]"
          ],
          "name": "stderr"
        },
        {
          "output_type": "stream",
          "text": [
            "epoch: 23, training loss: 0.21045221388339996, training f1: 0.9183530773771656, validation loss: 0.2781837582588196, validation f1: 0.9013952528734644\n"
          ],
          "name": "stdout"
        },
        {
          "output_type": "stream",
          "text": [
            "\r 83%|████████▎ | 25/30 [7:45:37<1:32:53, 1114.72s/it]"
          ],
          "name": "stderr"
        },
        {
          "output_type": "stream",
          "text": [
            "epoch: 24, training loss: 0.20900623500347137, training f1: 0.9186267430064821, validation loss: 0.2791272699832916, validation f1: 0.9013264788562881\n"
          ],
          "name": "stdout"
        },
        {
          "output_type": "stream",
          "text": [
            "\r 87%|████████▋ | 26/30 [8:03:59<1:14:03, 1110.94s/it]"
          ],
          "name": "stderr"
        },
        {
          "output_type": "stream",
          "text": [
            "epoch: 25, training loss: 0.20740722119808197, training f1: 0.9191826710911665, validation loss: 0.28190305829048157, validation f1: 0.9019798320194631\n"
          ],
          "name": "stdout"
        },
        {
          "output_type": "stream",
          "text": [
            "\r 90%|█████████ | 27/30 [8:22:14<55:18, 1106.33s/it]  "
          ],
          "name": "stderr"
        },
        {
          "output_type": "stream",
          "text": [
            "epoch: 26, training loss: 0.20646682381629944, training f1: 0.919735733567167, validation loss: 0.2815832495689392, validation f1: 0.9014038496256115\n"
          ],
          "name": "stdout"
        },
        {
          "output_type": "stream",
          "text": [
            "\r 93%|█████████▎| 28/30 [8:40:30<36:46, 1103.30s/it]"
          ],
          "name": "stderr"
        },
        {
          "output_type": "stream",
          "text": [
            "epoch: 27, training loss: 0.2051573246717453, training f1: 0.9199879071313538, validation loss: 0.28116896748542786, validation f1: 0.9021173800538157\n"
          ],
          "name": "stdout"
        },
        {
          "output_type": "stream",
          "text": [
            "\r 97%|█████████▋| 29/30 [8:58:55<18:23, 1103.58s/it]"
          ],
          "name": "stderr"
        },
        {
          "output_type": "stream",
          "text": [
            "epoch: 28, training loss: 0.20441581308841705, training f1: 0.920023727239903, validation loss: 0.2820988893508911, validation f1: 0.9019540417630221\n"
          ],
          "name": "stdout"
        },
        {
          "output_type": "stream",
          "text": [
            "100%|██████████| 30/30 [9:17:21<00:00, 1114.73s/it]"
          ],
          "name": "stderr"
        },
        {
          "output_type": "stream",
          "text": [
            "epoch: 29, training loss: 0.20308013260364532, training f1: 0.9205724913028777, validation loss: 0.2840149700641632, validation f1: 0.9009396250096714\n"
          ],
          "name": "stdout"
        },
        {
          "output_type": "stream",
          "text": [
            "\n"
          ],
          "name": "stderr"
        }
      ]
    },
    {
      "cell_type": "code",
      "metadata": {
        "id": "A3xwJ7Emo4OV"
      },
      "source": [
        "adam_df =  pd.DataFrame(data={'train_loss': train_loss_lst_Adam, \n",
        "                            'valid_loss': valid_loss_lst_Adam, \n",
        "                            'train_f1': train_f1_lst_Adam, \n",
        "                            'valid_f1': valid_f1_lst_Adam, \n",
        "                            'category': ['adam']*len(train_loss_lst_Adam)})\n",
        "\n",
        "adam_df.to_parquet('./adam_results.parquet')"
      ],
      "execution_count": null,
      "outputs": []
    },
    {
      "cell_type": "markdown",
      "metadata": {
        "id": "YUrEr4L2h96O"
      },
      "source": [
        "# Optimizer 3: AdaBelief\n",
        "** Training usually takes over 10 hours. Results are saved in the .parquet file "
      ]
    },
    {
      "cell_type": "code",
      "metadata": {
        "colab": {
          "base_uri": "https://localhost:8080/"
        },
        "id": "rBEXGLayrEV8",
        "outputId": "da691b29-9554-4fce-8bbc-4dec6452ee6d"
      },
      "source": [
        "my_vgg_AdaBelief = VGG('VGG_ba_small')\n",
        "params = {\n",
        "    'optimizer': (AdaBelief, {'lr': 0.0005}),\n",
        "    'model': my_vgg_AdaBelief,\n",
        "    'epochs': 30,\n",
        "    'batch_size': 64,\n",
        "    'train_data': train_set,\n",
        "    'test_data': test_set\n",
        "}\n",
        "model_AdaBelief, train_loss_lst_AdaBelief, valid_loss_lst_AdaBelief, train_f1_lst_AdaBelief, valid_f1_lst_AdaBelief = train(**params)"
      ],
      "execution_count": null,
      "outputs": [
        {
          "output_type": "stream",
          "text": [
            "\r  0%|          | 0/30 [00:00<?, ?it/s]"
          ],
          "name": "stderr"
        },
        {
          "output_type": "stream",
          "text": [
            "\u001b[31mPlease check your arguments if you have upgraded adabelief-pytorch from version 0.0.5.\n",
            "\u001b[31mModifications to default arguments:\n",
            "\u001b[31m                           eps  weight_decouple    rectify\n",
            "-----------------------  -----  -----------------  ---------\n",
            "adabelief-pytorch=0.0.5  1e-08  False              False\n",
            ">=0.1.0 (Current 0.2.0)  1e-16  True               True\n",
            "\u001b[34mSGD better than Adam (e.g. CNN for Image Classification)    Adam better than SGD (e.g. Transformer, GAN)\n",
            "----------------------------------------------------------  ----------------------------------------------\n",
            "Recommended eps = 1e-8                                      Recommended eps = 1e-16\n",
            "\u001b[34mFor a complete table of recommended hyperparameters, see\n",
            "\u001b[34mhttps://github.com/juntang-zhuang/Adabelief-Optimizer\n",
            "\u001b[32mYou can disable the log message by setting \"print_change_log = False\", though it is recommended to keep as a reminder.\n",
            "\u001b[0m\n",
            "Weight decoupling enabled in AdaBelief\n",
            "Rectification enabled in AdaBelief\n"
          ],
          "name": "stdout"
        },
        {
          "output_type": "stream",
          "text": [
            "\r  3%|▎         | 1/30 [18:24<8:53:42, 1104.22s/it]"
          ],
          "name": "stderr"
        },
        {
          "output_type": "stream",
          "text": [
            "epoch: 0, training loss: 0.43477001786231995, training f1: 0.8553970873953337, validation loss: 0.32757049798965454, validation f1: 0.8837203304591525\n"
          ],
          "name": "stdout"
        },
        {
          "output_type": "stream",
          "text": [
            "\r  7%|▋         | 2/30 [36:36<8:33:33, 1100.49s/it]"
          ],
          "name": "stderr"
        },
        {
          "output_type": "stream",
          "text": [
            "epoch: 1, training loss: 0.3049285113811493, training f1: 0.8906942223597715, validation loss: 0.29682132601737976, validation f1: 0.8932885155988067\n"
          ],
          "name": "stdout"
        },
        {
          "output_type": "stream",
          "text": [
            "\r 10%|█         | 3/30 [54:46<8:13:54, 1097.58s/it]"
          ],
          "name": "stderr"
        },
        {
          "output_type": "stream",
          "text": [
            "epoch: 2, training loss: 0.2810872793197632, training f1: 0.897654785853063, validation loss: 0.28545081615448, validation f1: 0.897320392355768\n"
          ],
          "name": "stdout"
        },
        {
          "output_type": "stream",
          "text": [
            "\r 13%|█▎        | 4/30 [1:12:54<7:54:19, 1094.58s/it]"
          ],
          "name": "stderr"
        },
        {
          "output_type": "stream",
          "text": [
            "epoch: 3, training loss: 0.2686302959918976, training f1: 0.9013456898379784, validation loss: 0.281249463558197, validation f1: 0.8994437901360866\n"
          ],
          "name": "stdout"
        },
        {
          "output_type": "stream",
          "text": [
            "\r 17%|█▋        | 5/30 [1:31:00<7:35:00, 1092.01s/it]"
          ],
          "name": "stderr"
        },
        {
          "output_type": "stream",
          "text": [
            "epoch: 4, training loss: 0.26011979579925537, training f1: 0.9040107059140432, validation loss: 0.2756127119064331, validation f1: 0.899976788769203\n"
          ],
          "name": "stdout"
        },
        {
          "output_type": "stream",
          "text": [
            "\r 20%|██        | 6/30 [1:49:06<7:16:02, 1090.10s/it]"
          ],
          "name": "stderr"
        },
        {
          "output_type": "stream",
          "text": [
            "epoch: 5, training loss: 0.2536384165287018, training f1: 0.906092570622926, validation loss: 0.27372750639915466, validation f1: 0.9010513827875829\n"
          ],
          "name": "stdout"
        },
        {
          "output_type": "stream",
          "text": [
            "\r 23%|██▎       | 7/30 [2:07:11<6:57:21, 1088.74s/it]"
          ],
          "name": "stderr"
        },
        {
          "output_type": "stream",
          "text": [
            "epoch: 6, training loss: 0.24863563477993011, training f1: 0.9074637643781915, validation loss: 0.2744995355606079, validation f1: 0.9006817224452602\n"
          ],
          "name": "stdout"
        },
        {
          "output_type": "stream",
          "text": [
            "\r 27%|██▋       | 8/30 [2:25:18<6:38:59, 1088.14s/it]"
          ],
          "name": "stderr"
        },
        {
          "output_type": "stream",
          "text": [
            "epoch: 7, training loss: 0.24400635063648224, training f1: 0.9083993856134982, validation loss: 0.2709735631942749, validation f1: 0.9021517670624039\n"
          ],
          "name": "stdout"
        },
        {
          "output_type": "stream",
          "text": [
            "\r 30%|███       | 9/30 [2:43:26<6:20:51, 1088.16s/it]"
          ],
          "name": "stderr"
        },
        {
          "output_type": "stream",
          "text": [
            "epoch: 8, training loss: 0.24078591167926788, training f1: 0.9095040777611573, validation loss: 0.27004462480545044, validation f1: 0.9022463313360213\n"
          ],
          "name": "stdout"
        },
        {
          "output_type": "stream",
          "text": [
            "\r 33%|███▎      | 10/30 [3:01:32<6:02:28, 1087.41s/it]"
          ],
          "name": "stderr"
        },
        {
          "output_type": "stream",
          "text": [
            "epoch: 9, training loss: 0.23727594316005707, training f1: 0.9105557561481634, validation loss: 0.27049514651298523, validation f1: 0.9026159916783439\n"
          ],
          "name": "stdout"
        },
        {
          "output_type": "stream",
          "text": [
            "\r 37%|███▋      | 11/30 [3:19:41<5:44:32, 1088.04s/it]"
          ],
          "name": "stderr"
        },
        {
          "output_type": "stream",
          "text": [
            "epoch: 10, training loss: 0.2343207746744156, training f1: 0.9112821879495424, validation loss: 0.2692781388759613, validation f1: 0.9026761689433732\n"
          ],
          "name": "stdout"
        },
        {
          "output_type": "stream",
          "text": [
            "\r 40%|████      | 12/30 [3:37:49<5:26:20, 1087.83s/it]"
          ],
          "name": "stderr"
        },
        {
          "output_type": "stream",
          "text": [
            "epoch: 11, training loss: 0.23171910643577576, training f1: 0.9121604970111702, validation loss: 0.27063000202178955, validation f1: 0.9027793299691376\n"
          ],
          "name": "stdout"
        },
        {
          "output_type": "stream",
          "text": [
            "\r 43%|████▎     | 13/30 [3:56:00<5:08:31, 1088.93s/it]"
          ],
          "name": "stderr"
        },
        {
          "output_type": "stream",
          "text": [
            "epoch: 12, training loss: 0.22941969335079193, training f1: 0.9125588166182379, validation loss: 0.2714511454105377, validation f1: 0.9025816046697558\n"
          ],
          "name": "stdout"
        },
        {
          "output_type": "stream",
          "text": [
            "\r 47%|████▋     | 14/30 [4:14:05<4:50:03, 1087.72s/it]"
          ],
          "name": "stderr"
        },
        {
          "output_type": "stream",
          "text": [
            "epoch: 13, training loss: 0.22693848609924316, training f1: 0.9135030346795963, validation loss: 0.2731008231639862, validation f1: 0.9020056222759042\n"
          ],
          "name": "stdout"
        },
        {
          "output_type": "stream",
          "text": [
            "\r 50%|█████     | 15/30 [4:32:18<4:32:20, 1089.37s/it]"
          ],
          "name": "stderr"
        },
        {
          "output_type": "stream",
          "text": [
            "epoch: 14, training loss: 0.2242438793182373, training f1: 0.9142122728288716, validation loss: 0.2730100452899933, validation f1: 0.9027535397126966\n"
          ],
          "name": "stdout"
        },
        {
          "output_type": "stream",
          "text": [
            "\r 53%|█████▎    | 16/30 [4:50:22<4:13:48, 1087.75s/it]"
          ],
          "name": "stderr"
        },
        {
          "output_type": "stream",
          "text": [
            "epoch: 15, training loss: 0.22269326448440552, training f1: 0.9147639025005302, validation loss: 0.2735563814640045, validation f1: 0.9022893150967565\n"
          ],
          "name": "stdout"
        },
        {
          "output_type": "stream",
          "text": [
            "\r 57%|█████▋    | 17/30 [5:08:28<3:55:34, 1087.28s/it]"
          ],
          "name": "stderr"
        },
        {
          "output_type": "stream",
          "text": [
            "epoch: 16, training loss: 0.22020767629146576, training f1: 0.9152926073027172, validation loss: 0.27331340312957764, validation f1: 0.9033811026194305\n"
          ],
          "name": "stdout"
        },
        {
          "output_type": "stream",
          "text": [
            "\r 60%|██████    | 18/30 [5:26:33<3:37:18, 1086.57s/it]"
          ],
          "name": "stderr"
        },
        {
          "output_type": "stream",
          "text": [
            "epoch: 17, training loss: 0.21903349459171295, training f1: 0.9156393459534741, validation loss: 0.27450132369995117, validation f1: 0.9026073949261969\n"
          ],
          "name": "stdout"
        },
        {
          "output_type": "stream",
          "text": [
            "\r 63%|██████▎   | 19/30 [5:44:40<3:19:13, 1086.70s/it]"
          ],
          "name": "stderr"
        },
        {
          "output_type": "stream",
          "text": [
            "epoch: 18, training loss: 0.21724247932434082, training f1: 0.9165620719497029, validation loss: 0.2753930687904358, validation f1: 0.9027621364648436\n"
          ],
          "name": "stdout"
        },
        {
          "output_type": "stream",
          "text": [
            "\r 67%|██████▋   | 20/30 [6:02:45<3:01:01, 1086.12s/it]"
          ],
          "name": "stderr"
        },
        {
          "output_type": "stream",
          "text": [
            "epoch: 19, training loss: 0.21585610508918762, training f1: 0.9168744232962523, validation loss: 0.27385830879211426, validation f1: 0.902186154070992\n"
          ],
          "name": "stdout"
        },
        {
          "output_type": "stream",
          "text": [
            "\r 70%|███████   | 21/30 [6:20:50<2:42:51, 1085.67s/it]"
          ],
          "name": "stderr"
        },
        {
          "output_type": "stream",
          "text": [
            "epoch: 20, training loss: 0.2140270173549652, training f1: 0.9170936423605738, validation loss: 0.2768348157405853, validation f1: 0.9016789456943168\n"
          ],
          "name": "stdout"
        },
        {
          "output_type": "stream",
          "text": [
            "\r 73%|███████▎  | 22/30 [6:39:02<2:25:00, 1087.59s/it]"
          ],
          "name": "stderr"
        },
        {
          "output_type": "stream",
          "text": [
            "epoch: 21, training loss: 0.211896151304245, training f1: 0.9179318329006264, validation loss: 0.2775590121746063, validation f1: 0.9023408956096386\n"
          ],
          "name": "stdout"
        },
        {
          "output_type": "stream",
          "text": [
            "\r 77%|███████▋  | 23/30 [6:57:16<2:07:06, 1089.55s/it]"
          ],
          "name": "stderr"
        },
        {
          "output_type": "stream",
          "text": [
            "epoch: 22, training loss: 0.21096906065940857, training f1: 0.9182026329212588, validation loss: 0.2780243158340454, validation f1: 0.9023580891139328\n"
          ],
          "name": "stdout"
        },
        {
          "output_type": "stream",
          "text": [
            "\r 80%|████████  | 24/30 [7:15:30<1:49:05, 1090.99s/it]"
          ],
          "name": "stderr"
        },
        {
          "output_type": "stream",
          "text": [
            "epoch: 23, training loss: 0.20996874570846558, training f1: 0.9185937885066167, validation loss: 0.2796558439731598, validation f1: 0.9027707332169906\n"
          ],
          "name": "stdout"
        },
        {
          "output_type": "stream",
          "text": [
            "\r 83%|████████▎ | 25/30 [7:33:44<1:30:59, 1091.94s/it]"
          ],
          "name": "stderr"
        },
        {
          "output_type": "stream",
          "text": [
            "epoch: 24, training loss: 0.20798982679843903, training f1: 0.9191167620914359, validation loss: 0.27770447731018066, validation f1: 0.9025902014219028\n"
          ],
          "name": "stdout"
        },
        {
          "output_type": "stream",
          "text": [
            "\r 87%|████████▋ | 26/30 [7:51:59<1:12:51, 1092.91s/it]"
          ],
          "name": "stderr"
        },
        {
          "output_type": "stream",
          "text": [
            "epoch: 25, training loss: 0.20633390545845032, training f1: 0.9197185399150634, validation loss: 0.2818041145801544, validation f1: 0.9019540417630221\n"
          ],
          "name": "stdout"
        },
        {
          "output_type": "stream",
          "text": [
            "\r 90%|█████████ | 27/30 [8:10:15<54:41, 1093.74s/it]  "
          ],
          "name": "stderr"
        },
        {
          "output_type": "stream",
          "text": [
            "epoch: 26, training loss: 0.2047368735074997, training f1: 0.9201168595221311, validation loss: 0.2819083034992218, validation f1: 0.9014898171470819\n"
          ],
          "name": "stdout"
        },
        {
          "output_type": "stream",
          "text": [
            "\r 93%|█████████▎| 28/30 [8:28:29<36:27, 1093.82s/it]"
          ],
          "name": "stderr"
        },
        {
          "output_type": "stream",
          "text": [
            "epoch: 27, training loss: 0.20370671153068542, training f1: 0.9206727876068156, validation loss: 0.28453686833381653, validation f1: 0.9014640268906408\n"
          ],
          "name": "stdout"
        },
        {
          "output_type": "stream",
          "text": [
            "\r 97%|█████████▋| 29/30 [8:46:44<18:14, 1094.05s/it]"
          ],
          "name": "stderr"
        },
        {
          "output_type": "stream",
          "text": [
            "epoch: 28, training loss: 0.2029600590467453, training f1: 0.9206584595633959, validation loss: 0.28615477681159973, validation f1: 0.9009482217618185\n"
          ],
          "name": "stdout"
        },
        {
          "output_type": "stream",
          "text": [
            "100%|██████████| 30/30 [9:04:59<00:00, 1089.98s/it]"
          ],
          "name": "stderr"
        },
        {
          "output_type": "stream",
          "text": [
            "epoch: 29, training loss: 0.2014610469341278, training f1: 0.9212616701913654, validation loss: 0.28367671370506287, validation f1: 0.9011631405654945\n"
          ],
          "name": "stdout"
        },
        {
          "output_type": "stream",
          "text": [
            "\n"
          ],
          "name": "stderr"
        }
      ]
    },
    {
      "cell_type": "code",
      "metadata": {
        "id": "8yiGbWRxo8LN"
      },
      "source": [
        "\n",
        "belief_df = pd.DataFrame(data={'train_loss': train_loss_lst_AdaBelief, \n",
        "                            'valid_loss': valid_loss_lst_AdaBelief, \n",
        "                            'train_f1': train_f1_lst_AdaBelief, \n",
        "                            'valid_f1': valid_f1_lst_AdaBelief, \n",
        "                            'category': ['belief']*len(train_loss_lst_AdaBelief)})\n",
        "\n",
        "belief_df.to_parquet('./belief_results.parquet')"
      ],
      "execution_count": null,
      "outputs": []
    },
    {
      "cell_type": "markdown",
      "metadata": {
        "id": "Rpvv2Ap6iFIT"
      },
      "source": [
        "# Optimizer 4: Padam\n",
        "** Training usually takes over 10 hours. Results are saved in the .parquet file "
      ]
    },
    {
      "cell_type": "code",
      "metadata": {
        "id": "iVzDtnbW-0yI"
      },
      "source": [
        "class Padam(Optimizer):\n",
        "    \"\"\"Implements Partially adaptive momentum estimation (Padam) algorithm.\n",
        "        params (iterable): iterable of parameters to optimize or dicts defining\n",
        "            parameter groups\n",
        "        lr (float, optional): learning rate (default: 1e-1)\n",
        "        betas (Tuple[float, float], optional): coefficients used for computing\n",
        "            running averages of gradient and its square (default: (0.9, 0.999))\n",
        "        eps (float, optional): term added to the denominator to improve\n",
        "            numerical stability (default: 1e-8)\n",
        "        weight_decay (float, optional): weight decay (L2 penalty) (default: 0)\n",
        "        partial (float, optional): partially adaptive parameter\n",
        "    \"\"\"\n",
        "\n",
        "    def __init__(self, params, lr=1e-1, betas=(0.9, 0.999), eps=1e-8, weight_decay=0, amsgrad=True, partial = 1/4):\n",
        "        if not 0.0 <= betas[0] < 1.0:\n",
        "            raise ValueError(\"Invalid beta parameter at index 0: {}\".format(betas[0]))\n",
        "        if not 0.0 <= betas[1] < 1.0:\n",
        "            raise ValueError(\"Invalid beta parameter at index 1: {}\".format(betas[1]))\n",
        "        defaults = dict(lr=lr, betas=betas, eps=eps, weight_decay=weight_decay, amsgrad=amsgrad, partial = partial)\n",
        "        super(Padam, self).__init__(params, defaults)\n",
        "\n",
        "    def step(self, closure=None):\n",
        "        \"\"\"Performs a single optimization step.\n",
        "        Arguments:\n",
        "            closure (callable, optional): A closure that reevaluates the model\n",
        "                and returns the loss.\n",
        "        \"\"\"\n",
        "        loss = None\n",
        "        if closure is not None:\n",
        "            loss = closure()\n",
        "\n",
        "        for group in self.param_groups:\n",
        "            for p in group['params']:\n",
        "                if p.grad is None:\n",
        "                    continue\n",
        "                grad = p.grad.data\n",
        "                if grad.is_sparse:\n",
        "                    raise RuntimeError('Adam does not support sparse gradients, please consider SparseAdam instead')\n",
        "                amsgrad = group['amsgrad']\n",
        "                partial = group['partial']\n",
        "\n",
        "                state = self.state[p]\n",
        "\n",
        "                # State initialization\n",
        "                if len(state) == 0:\n",
        "                    state['step'] = 0\n",
        "                    # Exponential moving average of gradient values\n",
        "                    state['exp_avg'] = torch.zeros_like(p.data)\n",
        "                    # Exponential moving average of squared gradient values\n",
        "                    state['exp_avg_sq'] = torch.zeros_like(p.data)\n",
        "                    if amsgrad:\n",
        "                        # Maintains max of all exp. moving avg. of sq. grad. values\n",
        "                        state['max_exp_avg_sq'] = torch.zeros_like(p.data)\n",
        "\n",
        "                exp_avg, exp_avg_sq = state['exp_avg'], state['exp_avg_sq']\n",
        "                if amsgrad:\n",
        "                    max_exp_avg_sq = state['max_exp_avg_sq']\n",
        "                beta1, beta2 = group['betas']\n",
        "\n",
        "                state['step'] += 1\n",
        "\n",
        "                if group['weight_decay'] != 0:\n",
        "                    grad = grad.add(group['weight_decay'], p.data)\n",
        "\n",
        "                # Decay the first and second moment running average coefficient\n",
        "                exp_avg.mul_(beta1).add_(1 - beta1, grad)\n",
        "                exp_avg_sq.mul_(beta2).addcmul_(1 - beta2, grad, grad)\n",
        "                if amsgrad:\n",
        "                    # Maintains the maximum of all 2nd moment running avg. till now\n",
        "                    torch.max(max_exp_avg_sq, exp_avg_sq, out=max_exp_avg_sq)\n",
        "                    # Use the max. for normalizing running avg. of gradient\n",
        "                    denom = max_exp_avg_sq.sqrt().add_(group['eps'])\n",
        "                else:\n",
        "                    denom = exp_avg_sq.sqrt().add_(group['eps'])\n",
        "\n",
        "                bias_correction1 = 1 - beta1 ** state['step']\n",
        "                bias_correction2 = 1 - beta2 ** state['step']\n",
        "                step_size = group['lr'] * math.sqrt(bias_correction2) / bias_correction1\n",
        "\n",
        "                p.data.addcdiv_(-step_size, exp_avg, denom**(partial*2))\n",
        "                \n",
        "        return loss\n"
      ],
      "execution_count": null,
      "outputs": []
    },
    {
      "cell_type": "code",
      "metadata": {
        "id": "EEgqIRiU9xnW",
        "colab": {
          "base_uri": "https://localhost:8080/"
        },
        "outputId": "96a14e54-0e0d-45a6-d70a-ba32f01be63f"
      },
      "source": [
        "my_vgg_Padam = VGG('VGG_ba_small')\n",
        "params = {\n",
        "    'optimizer': (Padam, {'lr': 0.0005}),\n",
        "    'model': my_vgg_Padam,\n",
        "    'epochs': 30,\n",
        "    'batch_size': 64,\n",
        "    'train_data': train_set,\n",
        "    'test_data': test_set\n",
        "}\n",
        "model_Padam, train_loss_lst_Padam, valid_loss_lst_Padam, train_f1_lst_Padam, valid_f1_lst_Padam = train(**params)"
      ],
      "execution_count": null,
      "outputs": [
        {
          "output_type": "stream",
          "text": [
            "  0%|          | 0/30 [00:00<?, ?it/s]/usr/local/lib/python3.7/dist-packages/ipykernel_launcher.py:66: UserWarning: This overload of add_ is deprecated:\n",
            "\tadd_(Number alpha, Tensor other)\n",
            "Consider using one of the following signatures instead:\n",
            "\tadd_(Tensor other, *, Number alpha) (Triggered internally at  /pytorch/torch/csrc/utils/python_arg_parser.cpp:1005.)\n",
            "  3%|▎         | 1/30 [21:11<10:14:26, 1271.26s/it]"
          ],
          "name": "stderr"
        },
        {
          "output_type": "stream",
          "text": [
            "epoch: 0, training loss: 0.4918713867664337, training f1: 0.8412610397574549, validation loss: 0.36202165484428406, validation f1: 0.8739544200201164\n"
          ],
          "name": "stdout"
        },
        {
          "output_type": "stream",
          "text": [
            "\r  7%|▋         | 2/30 [42:01<9:50:20, 1265.01s/it] "
          ],
          "name": "stderr"
        },
        {
          "output_type": "stream",
          "text": [
            "epoch: 1, training loss: 0.33975666761398315, training f1: 0.8810414195079177, validation loss: 0.3343052268028259, validation f1: 0.8827574942186842\n"
          ],
          "name": "stdout"
        },
        {
          "output_type": "stream",
          "text": [
            "\r 10%|█         | 3/30 [1:02:51<9:27:13, 1260.49s/it]"
          ],
          "name": "stderr"
        },
        {
          "output_type": "stream",
          "text": [
            "epoch: 2, training loss: 0.31622636318206787, training f1: 0.8878587025670123, validation loss: 0.31709182262420654, validation f1: 0.8872364020872915\n"
          ],
          "name": "stdout"
        },
        {
          "output_type": "stream",
          "text": [
            "\r 13%|█▎        | 4/30 [1:23:43<9:05:08, 1258.01s/it]"
          ],
          "name": "stderr"
        },
        {
          "output_type": "stream",
          "text": [
            "epoch: 3, training loss: 0.30296435952186584, training f1: 0.8915066224216686, validation loss: 0.3083551228046417, validation f1: 0.8904859743988721\n"
          ],
          "name": "stdout"
        },
        {
          "output_type": "stream",
          "text": [
            "\r 17%|█▋        | 5/30 [1:44:03<8:39:20, 1246.40s/it]"
          ],
          "name": "stderr"
        },
        {
          "output_type": "stream",
          "text": [
            "epoch: 4, training loss: 0.294445276260376, training f1: 0.8940598797590597, validation loss: 0.3009522259235382, validation f1: 0.8923944533755147\n"
          ],
          "name": "stdout"
        },
        {
          "output_type": "stream",
          "text": [
            "\r 20%|██        | 6/30 [2:04:12<8:14:07, 1235.31s/it]"
          ],
          "name": "stderr"
        },
        {
          "output_type": "stream",
          "text": [
            "epoch: 5, training loss: 0.2871372401714325, training f1: 0.895919659794937, validation loss: 0.29696330428123474, validation f1: 0.8927469202135433\n"
          ],
          "name": "stdout"
        },
        {
          "output_type": "stream",
          "text": [
            "\r 23%|██▎       | 7/30 [2:24:58<7:54:43, 1238.40s/it]"
          ],
          "name": "stderr"
        },
        {
          "output_type": "stream",
          "text": [
            "epoch: 6, training loss: 0.2819531261920929, training f1: 0.8974728197016328, validation loss: 0.29258614778518677, validation f1: 0.8936495791889822\n"
          ],
          "name": "stdout"
        },
        {
          "output_type": "stream",
          "text": [
            "\r 27%|██▋       | 8/30 [2:45:26<7:32:59, 1235.42s/it]"
          ],
          "name": "stderr"
        },
        {
          "output_type": "stream",
          "text": [
            "epoch: 7, training loss: 0.27713730931282043, training f1: 0.8986763753488879, validation loss: 0.2907208502292633, validation f1: 0.8944576738908041\n"
          ],
          "name": "stdout"
        },
        {
          "output_type": "stream",
          "text": [
            "\r 30%|███       | 9/30 [3:06:04<7:12:36, 1236.02s/it]"
          ],
          "name": "stderr"
        },
        {
          "output_type": "stream",
          "text": [
            "epoch: 8, training loss: 0.2729024887084961, training f1: 0.9001922823426924, validation loss: 0.2874215245246887, validation f1: 0.8962887820981233\n"
          ],
          "name": "stdout"
        },
        {
          "output_type": "stream",
          "text": [
            "\r 33%|███▎      | 10/30 [3:26:40<6:52:01, 1236.09s/it]"
          ],
          "name": "stderr"
        },
        {
          "output_type": "stream",
          "text": [
            "epoch: 9, training loss: 0.26946839690208435, training f1: 0.9011508284474705, validation loss: 0.2841866910457611, validation f1: 0.896649845688299\n"
          ],
          "name": "stdout"
        },
        {
          "output_type": "stream",
          "text": [
            "\r 37%|███▋      | 11/30 [3:46:58<6:29:43, 1230.69s/it]"
          ],
          "name": "stderr"
        },
        {
          "output_type": "stream",
          "text": [
            "epoch: 10, training loss: 0.2664623260498047, training f1: 0.9019718253354195, validation loss: 0.28220969438552856, validation f1: 0.8977932137238551\n"
          ],
          "name": "stdout"
        },
        {
          "output_type": "stream",
          "text": [
            "\r 40%|████      | 12/30 [4:07:02<6:06:46, 1222.59s/it]"
          ],
          "name": "stderr"
        },
        {
          "output_type": "stream",
          "text": [
            "epoch: 11, training loss: 0.2637288570404053, training f1: 0.9028673280491509, validation loss: 0.2809002101421356, validation f1: 0.8983004221005304\n"
          ],
          "name": "stdout"
        },
        {
          "output_type": "stream",
          "text": [
            "\r 43%|████▎     | 13/30 [4:27:26<5:46:32, 1223.08s/it]"
          ],
          "name": "stderr"
        },
        {
          "output_type": "stream",
          "text": [
            "epoch: 12, training loss: 0.2610093355178833, training f1: 0.9034476138076489, validation loss: 0.28240007162094116, validation f1: 0.8974751338944147\n"
          ],
          "name": "stdout"
        },
        {
          "output_type": "stream",
          "text": [
            "\r 47%|████▋     | 14/30 [4:47:45<5:25:50, 1221.93s/it]"
          ],
          "name": "stderr"
        },
        {
          "output_type": "stream",
          "text": [
            "epoch: 13, training loss: 0.2590523660182953, training f1: 0.9040852117398256, validation loss: 0.2775588929653168, validation f1: 0.8991171135544991\n"
          ],
          "name": "stdout"
        },
        {
          "output_type": "stream",
          "text": [
            "\r 50%|█████     | 15/30 [5:08:00<5:04:55, 1219.69s/it]"
          ],
          "name": "stderr"
        },
        {
          "output_type": "stream",
          "text": [
            "epoch: 14, training loss: 0.25620603561401367, training f1: 0.9050236985838161, validation loss: 0.27653440833091736, validation f1: 0.899538354409704\n"
          ],
          "name": "stdout"
        },
        {
          "output_type": "stream",
          "text": [
            "\r 53%|█████▎    | 16/30 [5:28:29<4:45:15, 1222.55s/it]"
          ],
          "name": "stderr"
        },
        {
          "output_type": "stream",
          "text": [
            "epoch: 15, training loss: 0.2547115981578827, training f1: 0.9053073938435263, validation loss: 0.2773273289203644, validation f1: 0.8986872759471471\n"
          ],
          "name": "stdout"
        },
        {
          "output_type": "stream",
          "text": [
            "\r 57%|█████▋    | 17/30 [5:48:56<4:25:11, 1223.97s/it]"
          ],
          "name": "stderr"
        },
        {
          "output_type": "stream",
          "text": [
            "epoch: 16, training loss: 0.2523464262485504, training f1: 0.9061942997312059, validation loss: 0.2753083407878876, validation f1: 0.8994781771446747\n"
          ],
          "name": "stdout"
        },
        {
          "output_type": "stream",
          "text": [
            "\r 60%|██████    | 18/30 [6:09:02<4:03:44, 1218.70s/it]"
          ],
          "name": "stderr"
        },
        {
          "output_type": "stream",
          "text": [
            "epoch: 17, training loss: 0.25076961517333984, training f1: 0.9065381727732787, validation loss: 0.2749467194080353, validation f1: 0.8994437901360866\n"
          ],
          "name": "stdout"
        },
        {
          "output_type": "stream",
          "text": [
            "\r 63%|██████▎   | 19/30 [6:29:19<3:43:20, 1218.19s/it]"
          ],
          "name": "stderr"
        },
        {
          "output_type": "stream",
          "text": [
            "epoch: 18, training loss: 0.2490629255771637, training f1: 0.9070339230756005, validation loss: 0.27436527609825134, validation f1: 0.8998048537262622\n"
          ],
          "name": "stdout"
        },
        {
          "output_type": "stream",
          "text": [
            "\r 67%|██████▋   | 20/30 [6:49:45<3:23:23, 1220.35s/it]"
          ],
          "name": "stderr"
        },
        {
          "output_type": "stream",
          "text": [
            "epoch: 19, training loss: 0.248041570186615, training f1: 0.9074608987695076, validation loss: 0.27141061425209045, validation f1: 0.9009224315053773\n"
          ],
          "name": "stdout"
        },
        {
          "output_type": "stream",
          "text": [
            "\r 70%|███████   | 21/30 [7:10:27<3:04:02, 1226.95s/it]"
          ],
          "name": "stderr"
        },
        {
          "output_type": "stream",
          "text": [
            "epoch: 20, training loss: 0.24611717462539673, training f1: 0.9079910363760366, validation loss: 0.27225539088249207, validation f1: 0.9003034653507904\n"
          ],
          "name": "stdout"
        },
        {
          "output_type": "stream",
          "text": [
            "\r 73%|███████▎  | 22/30 [7:30:47<2:43:18, 1224.81s/it]"
          ],
          "name": "stderr"
        },
        {
          "output_type": "stream",
          "text": [
            "epoch: 21, training loss: 0.24483755230903625, training f1: 0.9080970638973425, validation loss: 0.27175116539001465, validation f1: 0.8998306439827033\n"
          ],
          "name": "stdout"
        },
        {
          "output_type": "stream",
          "text": [
            "\r 77%|███████▋  | 23/30 [7:50:58<2:22:23, 1220.53s/it]"
          ],
          "name": "stderr"
        },
        {
          "output_type": "stream",
          "text": [
            "epoch: 22, training loss: 0.24316135048866272, training f1: 0.908842122155167, validation loss: 0.2723550796508789, validation f1: 0.9003378523593786\n"
          ],
          "name": "stdout"
        },
        {
          "output_type": "stream",
          "text": [
            "\r 80%|████████  | 24/30 [8:11:13<2:01:53, 1218.89s/it]"
          ],
          "name": "stderr"
        },
        {
          "output_type": "stream",
          "text": [
            "epoch: 23, training loss: 0.24226011335849762, training f1: 0.9091816967842139, validation loss: 0.2707667946815491, validation f1: 0.9013694626170233\n"
          ],
          "name": "stdout"
        },
        {
          "output_type": "stream",
          "text": [
            "\r 83%|████████▎ | 25/30 [8:31:20<1:41:16, 1215.39s/it]"
          ],
          "name": "stderr"
        },
        {
          "output_type": "stream",
          "text": [
            "epoch: 24, training loss: 0.24071797728538513, training f1: 0.9096215677171987, validation loss: 0.27109113335609436, validation f1: 0.9006903191974073\n"
          ],
          "name": "stdout"
        },
        {
          "output_type": "stream",
          "text": [
            "\r 87%|████████▋ | 26/30 [8:51:07<1:20:27, 1207.00s/it]"
          ],
          "name": "stderr"
        },
        {
          "output_type": "stream",
          "text": [
            "epoch: 25, training loss: 0.239559605717659, training f1: 0.9099812016070333, validation loss: 0.27051088213920593, validation f1: 0.9013350756084352\n"
          ],
          "name": "stdout"
        },
        {
          "output_type": "stream",
          "text": [
            "\r 90%|█████████ | 27/30 [9:11:03<1:00:10, 1203.61s/it]"
          ],
          "name": "stderr"
        },
        {
          "output_type": "stream",
          "text": [
            "epoch: 26, training loss: 0.2385251224040985, training f1: 0.9101359444759661, validation loss: 0.27006056904792786, validation f1: 0.901085769796171\n"
          ],
          "name": "stdout"
        },
        {
          "output_type": "stream",
          "text": [
            "\r 93%|█████████▎| 28/30 [9:31:22<40:16, 1208.11s/it]  "
          ],
          "name": "stderr"
        },
        {
          "output_type": "stream",
          "text": [
            "epoch: 27, training loss: 0.23716333508491516, training f1: 0.9105614873655313, validation loss: 0.2709408700466156, validation f1: 0.9006645289409662\n"
          ],
          "name": "stdout"
        },
        {
          "output_type": "stream",
          "text": [
            "\r 97%|█████████▋| 29/30 [9:51:21<20:05, 1205.55s/it]"
          ],
          "name": "stderr"
        },
        {
          "output_type": "stream",
          "text": [
            "epoch: 28, training loss: 0.23605097830295563, training f1: 0.9109870302550965, validation loss: 0.2704481780529022, validation f1: 0.9006473354366722\n"
          ],
          "name": "stdout"
        },
        {
          "output_type": "stream",
          "text": [
            "100%|██████████| 30/30 [10:11:16<00:00, 1222.55s/it]"
          ],
          "name": "stderr"
        },
        {
          "output_type": "stream",
          "text": [
            "epoch: 29, training loss: 0.2349907010793686, training f1: 0.9114054091229518, validation loss: 0.2688017785549164, validation f1: 0.901962638515169\n"
          ],
          "name": "stdout"
        },
        {
          "output_type": "stream",
          "text": [
            "\n"
          ],
          "name": "stderr"
        }
      ]
    },
    {
      "cell_type": "code",
      "metadata": {
        "id": "ZAAWc1CNpA6B"
      },
      "source": [
        "\n",
        "padam_df = pd.DataFrame(data={'train_loss': train_loss_lst_Padam, \n",
        "                            'valid_loss': valid_loss_lst_Padam, \n",
        "                            'train_f1': train_f1_lst_Padam, \n",
        "                            'valid_f1': valid_f1_lst_Padam, \n",
        "                            'category': ['padam']*len(train_loss_lst_Padam)})\n",
        "\n",
        "padam_df.to_parquet('./padam_results.parquet')"
      ],
      "execution_count": null,
      "outputs": []
    },
    {
      "cell_type": "markdown",
      "metadata": {
        "id": "07lUxrdSiQY3"
      },
      "source": [
        "# Combine results of 4 optimizors into one .parquet file"
      ]
    },
    {
      "cell_type": "code",
      "metadata": {
        "id": "y6sWGhk5pESh"
      },
      "source": [
        "full_df = pd.concat([belief_df, adam_df, padam_df, sgd_df])\n",
        "full_df.to_parquet('./full_df.parquet')"
      ],
      "execution_count": 15,
      "outputs": []
    },
    {
      "cell_type": "markdown",
      "metadata": {
        "id": "V_xIDMU75AAU"
      },
      "source": [
        "# Load the training/evaluating results trained previously\n",
        "** You could skip this section if you run all the code in one time. Otherwise, you could upload the results you trained previously and load them. In github, trained results are provided."
      ]
    },
    {
      "cell_type": "code",
      "metadata": {
        "id": "i1A1cbWTrRRV"
      },
      "source": [
        "import pandas as pd\n",
        "sgd_df = pd.read_parquet('./sgd_results.parquet', engine='pyarrow')\n",
        "adam_df = pd.read_parquet('./adam_results.parquet', engine='pyarrow')\n",
        "belief_df = pd.read_parquet('./belief_results.parquet', engine='pyarrow')\n",
        "padam_df = pd.read_parquet('./padam_results.parquet', engine='pyarrow')\n",
        "full_df = pd.read_parquet('./full_df.parquet', engine='pyarrow')"
      ],
      "execution_count": 16,
      "outputs": []
    },
    {
      "cell_type": "markdown",
      "metadata": {
        "id": "pwQ4GBPTkeIk"
      },
      "source": [
        "# Draw diagrams\n",
        "- training cross-entropy loss curves of 4 optimizers\n",
        "- validation cross-entropy loss curves of 4 optimizers\n",
        "- training f1 scores curves of 4 optimizers\n",
        "- validation f1 scores curves of 4 optimizers"
      ]
    },
    {
      "cell_type": "code",
      "metadata": {
        "colab": {
          "base_uri": "https://localhost:8080/",
          "height": 356
        },
        "id": "-RIWKaN-_-Qt",
        "outputId": "a967edc2-f97a-4a13-97bf-badb71dcf97c"
      },
      "source": [
        "from matplotlib.pyplot import MultipleLocator\n",
        "epo=[i for i in range(30)]\n",
        "plt.figure(figsize=(20, 5))\n",
        "plt.subplots_adjust(left=None, bottom=None, right=None, top=None,\n",
        "                wspace=0.5, hspace=0.5)\n",
        "plt.subplot(141)\n",
        "plt.title(\"Training Loss Curve\", fontsize=16)\n",
        "plt.plot(epo, sgd_df['train_loss'], label=\"SGD\")\n",
        "plt.plot(epo, adam_df['train_loss'], label=\"Adam\")\n",
        "plt.plot(epo, belief_df['train_loss'], label=\"AdaBelief\")\n",
        "plt.plot(epo, padam_df['train_loss'], label=\"PAdam\")\n",
        "\n",
        "x_major_locator=MultipleLocator(5)\n",
        "ax=plt.gca()\n",
        "ax.xaxis.set_major_locator(x_major_locator)\n",
        "plt.xlabel(\"Epochs\", fontsize=12)\n",
        "plt.ylabel(\"Cross Entropy Loss\", fontsize=12)\n",
        "plt.legend()\n",
        "\n",
        "\n",
        "plt.subplot(142)\n",
        "\n",
        "plt.title(\"Validation Loss Curve\", fontsize=16)\n",
        "plt.plot(epo, sgd_df['valid_loss'], label=\"SGD\")\n",
        "plt.plot(epo, adam_df['valid_loss'], label=\"Adam\")\n",
        "plt.plot(epo, belief_df['valid_loss'], label=\"AdaBelief\")\n",
        "plt.plot(epo, padam_df['valid_loss'], label=\"PAdam\")\n",
        "x_major_locator=MultipleLocator(5)\n",
        "ax=plt.gca()\n",
        "ax.xaxis.set_major_locator(x_major_locator)\n",
        "plt.xlabel(\"Epochs\", fontsize=12)\n",
        "plt.ylabel(\"Cross Entropy Loss\", fontsize=12)\n",
        "plt.legend()\n",
        "plt.subplot(143)\n",
        "plt.title(\"Training F1 Curve\", fontsize=16)\n",
        "plt.plot(epo, sgd_df['train_f1'], label=\"SGD\")\n",
        "plt.plot(epo, adam_df['train_f1'], label=\"Adam\")\n",
        "plt.plot(epo, belief_df['train_f1'], label=\"AdaBelief\")\n",
        "plt.plot(epo, padam_df['train_f1'], label=\"PAdam\")\n",
        "\n",
        "x_major_locator=MultipleLocator(5)\n",
        "ax=plt.gca()\n",
        "ax.xaxis.set_major_locator(x_major_locator)\n",
        "plt.xlabel(\"Epochs\", fontsize=14)\n",
        "plt.ylabel(\"F1 score\", fontsize=14)\n",
        "plt.legend()\n",
        "\n",
        "\n",
        "plt.subplot(144)\n",
        "\n",
        "plt.title(\"Validation F1 Curve\", fontsize=16)\n",
        "plt.plot(epo, sgd_df['valid_f1'], label=\"SGD\")\n",
        "plt.plot(epo, adam_df['valid_f1'], label=\"Adam\")\n",
        "plt.plot(epo, belief_df['valid_f1'], label=\"AdaBelief\")\n",
        "plt.plot(epo, padam_df['valid_f1'], label=\"PAdam\")\n",
        "x_major_locator=MultipleLocator(5)\n",
        "ax=plt.gca()\n",
        "ax.xaxis.set_major_locator(x_major_locator)\n",
        "\n",
        "plt.xlabel(\"Epochs\", fontsize=14)\n",
        "plt.ylabel(\"F1 score\", fontsize=14)\n",
        "plt.legend()\n",
        "plt.savefig('./vgg_loss.png')\n",
        "plt.show()"
      ],
      "execution_count": 18,
      "outputs": [
        {
          "output_type": "display_data",
          "data": {
            "image/png": "[encoded data removed]",
            "text/plain": [
              "<Figure size 1440x360 with 4 Axes>"
            ]
          },
          "metadata": {
            "tags": [],
            "needs_background": "light"
          }
        }
      ]
    },
    {
      "cell_type": "markdown",
      "metadata": {
        "id": "Q1sR504Pkiri"
      },
      "source": [
        "# Draw the structure of model"
      ]
    },
    {
      "cell_type": "code",
      "metadata": {
        "colab": {
          "base_uri": "https://localhost:8080/",
          "height": 120
        },
        "id": "q3TDfITrXdcS",
        "outputId": "6a7187ff-0f48-402c-8af1-f021cdda6edd"
      },
      "source": [
        "!pip install torchviz\n",
        "from torchviz import make_dot\n",
        "my_model = VGG('VGG_ba_small')\n",
        "out = my_model(torch.randn(64,1,224,224))\n",
        "make_dot(out, dict(my_model.named_parameters())).render('model', format='png')"
      ],
      "execution_count": null,
      "outputs": [
        {
          "output_type": "stream",
          "text": [
            "Requirement already satisfied: torchviz in /usr/local/lib/python3.7/dist-packages (0.0.2)\n",
            "Requirement already satisfied: graphviz in /usr/local/lib/python3.7/dist-packages (from torchviz) (0.10.1)\n",
            "Requirement already satisfied: torch in /usr/local/lib/python3.7/dist-packages (from torchviz) (1.8.1+cu101)\n",
            "Requirement already satisfied: typing-extensions in /usr/local/lib/python3.7/dist-packages (from torch->torchviz) (3.7.4.3)\n",
            "Requirement already satisfied: numpy in /usr/local/lib/python3.7/dist-packages (from torch->torchviz) (1.19.5)\n"
          ],
          "name": "stdout"
        },
        {
          "output_type": "execute_result",
          "data": {
            "application/vnd.google.colaboratory.intrinsic+json": {
              "type": "string"
            },
            "text/plain": [
              "'model.png'"
            ]
          },
          "metadata": {
            "tags": []
          },
          "execution_count": 160
        }
      ]
    }
  ]
}